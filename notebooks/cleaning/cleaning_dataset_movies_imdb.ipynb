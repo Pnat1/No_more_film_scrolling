{
 "cells": [
  {
   "cell_type": "code",
   "execution_count": 1,
   "id": "15638510",
   "metadata": {},
   "outputs": [],
   "source": [
    "import pandas as pd\n",
    "import numpy as np\n",
    "import matplotlib as plt\n",
    "import regex as re\n",
    "import string\n",
    "import matplotlib as plt\n",
    "import seaborn as sns\n",
    "from currency_converter import CurrencyConverter"
   ]
  },
  {
   "cell_type": "code",
   "execution_count": 2,
   "id": "457f3a94",
   "metadata": {},
   "outputs": [
    {
     "name": "stderr",
     "output_type": "stream",
     "text": [
      "/home/guillermo/anaconda3/lib/python3.8/site-packages/IPython/core/interactiveshell.py:3437: DtypeWarning: Columns (3) have mixed types.Specify dtype option on import or set low_memory=False.\n",
      "  exec(code_obj, self.user_global_ns, self.user_ns)\n"
     ]
    }
   ],
   "source": [
    "df_mov_nam = pd.read_csv('../../data/imdb_movies.csv')\n",
    "# Data has been scraped from the publicly available website https://www.imdb.com.\n",
    "# All the movies with more than 100 votes have been scraped as of 01/01/2020."
   ]
  },
  {
   "cell_type": "code",
   "execution_count": 3,
   "id": "ce0c0b09",
   "metadata": {},
   "outputs": [
    {
     "data": {
      "text/plain": [
       "imdb_title_id             object\n",
       "title                     object\n",
       "original_title            object\n",
       "year                      object\n",
       "date_published            object\n",
       "genre                     object\n",
       "duration                   int64\n",
       "country                   object\n",
       "language                  object\n",
       "director                  object\n",
       "writer                    object\n",
       "production_company        object\n",
       "actors                    object\n",
       "description               object\n",
       "avg_vote                 float64\n",
       "votes                      int64\n",
       "budget                    object\n",
       "usa_gross_income          object\n",
       "worlwide_gross_income     object\n",
       "metascore                float64\n",
       "reviews_from_users       float64\n",
       "reviews_from_critics     float64\n",
       "dtype: object"
      ]
     },
     "execution_count": 3,
     "metadata": {},
     "output_type": "execute_result"
    }
   ],
   "source": [
    "df_mov_nam.dtypes\n",
    "# voting columns have different data types"
   ]
  },
  {
   "cell_type": "code",
   "execution_count": 4,
   "id": "6854ca64",
   "metadata": {},
   "outputs": [
    {
     "name": "stdout",
     "output_type": "stream",
     "text": [
      "<class 'pandas.core.frame.DataFrame'>\n",
      "RangeIndex: 85855 entries, 0 to 85854\n",
      "Data columns (total 22 columns):\n",
      " #   Column                 Non-Null Count  Dtype  \n",
      "---  ------                 --------------  -----  \n",
      " 0   imdb_title_id          85855 non-null  object \n",
      " 1   title                  85855 non-null  object \n",
      " 2   original_title         85855 non-null  object \n",
      " 3   year                   85855 non-null  object \n",
      " 4   date_published         85855 non-null  object \n",
      " 5   genre                  85855 non-null  object \n",
      " 6   duration               85855 non-null  int64  \n",
      " 7   country                85791 non-null  object \n",
      " 8   language               85022 non-null  object \n",
      " 9   director               85768 non-null  object \n",
      " 10  writer                 84283 non-null  object \n",
      " 11  production_company     81400 non-null  object \n",
      " 12  actors                 85786 non-null  object \n",
      " 13  description            83740 non-null  object \n",
      " 14  avg_vote               85855 non-null  float64\n",
      " 15  votes                  85855 non-null  int64  \n",
      " 16  budget                 23710 non-null  object \n",
      " 17  usa_gross_income       15326 non-null  object \n",
      " 18  worlwide_gross_income  31016 non-null  object \n",
      " 19  metascore              13305 non-null  float64\n",
      " 20  reviews_from_users     78258 non-null  float64\n",
      " 21  reviews_from_critics   74058 non-null  float64\n",
      "dtypes: float64(4), int64(2), object(16)\n",
      "memory usage: 14.4+ MB\n"
     ]
    }
   ],
   "source": [
    "df_mov_nam.info()"
   ]
  },
  {
   "cell_type": "code",
   "execution_count": 5,
   "id": "2251c61e",
   "metadata": {},
   "outputs": [
    {
     "data": {
      "text/plain": [
       "imdb_title_id                0\n",
       "title                        0\n",
       "original_title               0\n",
       "year                         0\n",
       "date_published               0\n",
       "genre                        0\n",
       "duration                     0\n",
       "country                     64\n",
       "language                   833\n",
       "director                    87\n",
       "writer                    1572\n",
       "production_company        4455\n",
       "actors                      69\n",
       "description               2115\n",
       "avg_vote                     0\n",
       "votes                        0\n",
       "budget                   62145\n",
       "usa_gross_income         70529\n",
       "worlwide_gross_income    54839\n",
       "metascore                72550\n",
       "reviews_from_users        7597\n",
       "reviews_from_critics     11797\n",
       "dtype: int64"
      ]
     },
     "execution_count": 5,
     "metadata": {},
     "output_type": "execute_result"
    }
   ],
   "source": [
    "df_mov_nam.isnull().sum()\n",
    "# Do we actually need income columns? I am going to leave them for now\n",
    "# We must no something about NaNs in the reviews columns and others like country, language, description"
   ]
  },
  {
   "cell_type": "code",
   "execution_count": 6,
   "id": "4de0f9f9",
   "metadata": {},
   "outputs": [
    {
     "data": {
      "text/plain": [
       "[\"A meek tailor thinks his wooing will be helped if he assumes the identity of the famous Casanova...who's deeply in debt.\"]"
      ]
     },
     "execution_count": 6,
     "metadata": {},
     "output_type": "execute_result"
    }
   ],
   "source": [
    "list(df_mov_nam[\"description\"].sample())"
   ]
  },
  {
   "cell_type": "code",
   "execution_count": 7,
   "id": "d88695b1",
   "metadata": {},
   "outputs": [
    {
     "data": {
      "text/plain": [
       "['UK, USA', 'USA', 'USA', 'UK', 'USA', 'USA', 'India', 'USA', 'USA', 'USA']"
      ]
     },
     "execution_count": 7,
     "metadata": {},
     "output_type": "execute_result"
    }
   ],
   "source": [
    "list(df_mov_nam['country'].sample(10))\n",
    "# Movies can have more than one country of origin"
   ]
  },
  {
   "cell_type": "code",
   "execution_count": 8,
   "id": "8d47bd3c",
   "metadata": {},
   "outputs": [
    {
     "name": "stdout",
     "output_type": "stream",
     "text": [
      "['1894-10-09' '1906-12-26' '1911-08-19' ... '2020-10-22' '2019-01-13'\n",
      " '2020-09-04']\n"
     ]
    }
   ],
   "source": [
    "print(df_mov_nam[\"date_published\"].unique())\n",
    "# Month and day are not important for the study so we are going to drop this column"
   ]
  },
  {
   "cell_type": "code",
   "execution_count": 9,
   "id": "568ded79",
   "metadata": {},
   "outputs": [],
   "source": [
    "# I drop the columns I do not need for the description based recommendation film system\n",
    "df_mov = df_mov_nam.drop(\"title\", axis=1)"
   ]
  },
  {
   "cell_type": "code",
   "execution_count": 10,
   "id": "0c495104",
   "metadata": {},
   "outputs": [],
   "source": [
    "df_mov = df_mov_nam.drop(\"date_published\", axis=1)"
   ]
  },
  {
   "cell_type": "code",
   "execution_count": 11,
   "id": "620d0c50",
   "metadata": {},
   "outputs": [],
   "source": [
    "# Here I create another dataframe to save for posiible future use containing the film income numeric values\n",
    "df_film_income = pd.DataFrame(df_mov, columns= [\"budget\", \"usa_gross_income\", \"worlwide_gross_income\"])"
   ]
  },
  {
   "cell_type": "code",
   "execution_count": 12,
   "id": "6a4b5138",
   "metadata": {},
   "outputs": [],
   "source": [
    "df_film_income.to_csv('../../data/df_film_income.csv')"
   ]
  },
  {
   "cell_type": "code",
   "execution_count": 13,
   "id": "6ced021d",
   "metadata": {},
   "outputs": [],
   "source": [
    "df_mov = df_mov.drop(\"budget\", axis=1)\n",
    "df_mov = df_mov.drop(\"usa_gross_income\", axis=1)\n",
    "df_mov = df_mov.drop(\"worlwide_gross_income\", axis=1)"
   ]
  },
  {
   "cell_type": "code",
   "execution_count": 14,
   "id": "8d5913cd",
   "metadata": {},
   "outputs": [],
   "source": [
    "df_mov = df_mov.drop(\"title\", axis=1)"
   ]
  },
  {
   "cell_type": "markdown",
   "id": "08057c2b",
   "metadata": {},
   "source": [
    "year is an important column that must be cleaned"
   ]
  },
  {
   "cell_type": "code",
   "execution_count": 15,
   "id": "a62469f1",
   "metadata": {},
   "outputs": [
    {
     "data": {
      "text/plain": [
       "numpy.ndarray"
      ]
     },
     "execution_count": 15,
     "metadata": {},
     "output_type": "execute_result"
    }
   ],
   "source": [
    "type(df_mov[\"year\"].unique())"
   ]
  },
  {
   "cell_type": "code",
   "execution_count": 16,
   "id": "7f4ed6cc",
   "metadata": {},
   "outputs": [],
   "source": [
    "def cleanstryear(x):\n",
    "    '''\n",
    "    This function clean my column year database from string characters\n",
    "    '''\n",
    "    if x == 'TV Movie 2019':\n",
    "        return 2019\n",
    "    else:\n",
    "        return x"
   ]
  },
  {
   "cell_type": "code",
   "execution_count": 17,
   "id": "50c3a4f2",
   "metadata": {},
   "outputs": [],
   "source": [
    "df_mov.year=df_mov.year.apply(cleanstryear)"
   ]
  },
  {
   "cell_type": "code",
   "execution_count": 18,
   "id": "4b6a05bc",
   "metadata": {},
   "outputs": [],
   "source": [
    "# Tranform all values in year to INTS\n",
    "df_mov[\"year\"] = df_mov.year.astype(int)"
   ]
  },
  {
   "cell_type": "code",
   "execution_count": 19,
   "id": "904a58f5",
   "metadata": {},
   "outputs": [
    {
     "name": "stdout",
     "output_type": "stream",
     "text": [
      "[1894 1906 1911 1912 1919 1913 1914 1915 1916 1917 1918 1920 1921 1924\n",
      " 1922 1923 1925 1926 1935 1927 1928 1983 1929 1930 1932 1931 1937 1938\n",
      " 1933 1934 1936 1940 1939 1942 1943 1941 1948 1944 2001 1946 1945 1947\n",
      " 1973 1949 1950 1952 1951 1962 1953 1954 1955 1961 1956 1958 1957 1959\n",
      " 1960 1963 1965 1971 1964 1966 1968 1967 1969 1976 1970 1979 1972 1981\n",
      " 1978 2000 1989 1975 1974 1986 1990 2018 1977 1982 1980 1993 1984 1985\n",
      " 1988 1987 2005 1991 2002 1994 1992 1995 2017 1997 1996 2006 1999 1998\n",
      " 2007 2008 2003 2004 2010 2009 2011 2013 2012 2016 2015 2014 2019 2020]\n"
     ]
    }
   ],
   "source": [
    "print(df_mov[\"year\"].unique())"
   ]
  },
  {
   "cell_type": "markdown",
   "id": "3be3761f",
   "metadata": {},
   "source": [
    "NaN treatment"
   ]
  },
  {
   "cell_type": "code",
   "execution_count": 20,
   "id": "0064de9b",
   "metadata": {},
   "outputs": [
    {
     "data": {
      "text/html": [
       "<div>\n",
       "<style scoped>\n",
       "    .dataframe tbody tr th:only-of-type {\n",
       "        vertical-align: middle;\n",
       "    }\n",
       "\n",
       "    .dataframe tbody tr th {\n",
       "        vertical-align: top;\n",
       "    }\n",
       "\n",
       "    .dataframe thead th {\n",
       "        text-align: right;\n",
       "    }\n",
       "</style>\n",
       "<table border=\"1\" class=\"dataframe\">\n",
       "  <thead>\n",
       "    <tr style=\"text-align: right;\">\n",
       "      <th></th>\n",
       "      <th>imdb_title_id</th>\n",
       "      <th>original_title</th>\n",
       "      <th>year</th>\n",
       "      <th>genre</th>\n",
       "      <th>duration</th>\n",
       "      <th>country</th>\n",
       "      <th>language</th>\n",
       "      <th>director</th>\n",
       "      <th>writer</th>\n",
       "      <th>production_company</th>\n",
       "      <th>actors</th>\n",
       "      <th>description</th>\n",
       "      <th>avg_vote</th>\n",
       "      <th>votes</th>\n",
       "      <th>metascore</th>\n",
       "      <th>reviews_from_users</th>\n",
       "      <th>reviews_from_critics</th>\n",
       "    </tr>\n",
       "  </thead>\n",
       "  <tbody>\n",
       "    <tr>\n",
       "      <th>0</th>\n",
       "      <td>tt0000009</td>\n",
       "      <td>Miss Jerry</td>\n",
       "      <td>1894</td>\n",
       "      <td>Romance</td>\n",
       "      <td>45</td>\n",
       "      <td>USA</td>\n",
       "      <td>None</td>\n",
       "      <td>Alexander Black</td>\n",
       "      <td>Alexander Black</td>\n",
       "      <td>Alexander Black Photoplays</td>\n",
       "      <td>Blanche Bayliss, William Courtenay, Chauncey D...</td>\n",
       "      <td>The adventures of a female reporter in the 1890s.</td>\n",
       "      <td>5.9</td>\n",
       "      <td>154</td>\n",
       "      <td>NaN</td>\n",
       "      <td>1.0</td>\n",
       "      <td>2.0</td>\n",
       "    </tr>\n",
       "    <tr>\n",
       "      <th>1</th>\n",
       "      <td>tt0000574</td>\n",
       "      <td>The Story of the Kelly Gang</td>\n",
       "      <td>1906</td>\n",
       "      <td>Biography, Crime, Drama</td>\n",
       "      <td>70</td>\n",
       "      <td>Australia</td>\n",
       "      <td>None</td>\n",
       "      <td>Charles Tait</td>\n",
       "      <td>Charles Tait</td>\n",
       "      <td>J. and N. Tait</td>\n",
       "      <td>Elizabeth Tait, John Tait, Norman Campbell, Be...</td>\n",
       "      <td>True story of notorious Australian outlaw Ned ...</td>\n",
       "      <td>6.1</td>\n",
       "      <td>589</td>\n",
       "      <td>NaN</td>\n",
       "      <td>7.0</td>\n",
       "      <td>7.0</td>\n",
       "    </tr>\n",
       "  </tbody>\n",
       "</table>\n",
       "</div>"
      ],
      "text/plain": [
       "  imdb_title_id               original_title  year                    genre  \\\n",
       "0     tt0000009                   Miss Jerry  1894                  Romance   \n",
       "1     tt0000574  The Story of the Kelly Gang  1906  Biography, Crime, Drama   \n",
       "\n",
       "   duration    country language         director           writer  \\\n",
       "0        45        USA     None  Alexander Black  Alexander Black   \n",
       "1        70  Australia     None     Charles Tait     Charles Tait   \n",
       "\n",
       "           production_company  \\\n",
       "0  Alexander Black Photoplays   \n",
       "1              J. and N. Tait   \n",
       "\n",
       "                                              actors  \\\n",
       "0  Blanche Bayliss, William Courtenay, Chauncey D...   \n",
       "1  Elizabeth Tait, John Tait, Norman Campbell, Be...   \n",
       "\n",
       "                                         description  avg_vote  votes  \\\n",
       "0  The adventures of a female reporter in the 1890s.       5.9    154   \n",
       "1  True story of notorious Australian outlaw Ned ...       6.1    589   \n",
       "\n",
       "   metascore  reviews_from_users  reviews_from_critics  \n",
       "0        NaN                 1.0                   2.0  \n",
       "1        NaN                 7.0                   7.0  "
      ]
     },
     "execution_count": 20,
     "metadata": {},
     "output_type": "execute_result"
    }
   ],
   "source": [
    "# Filling string NaNs with 0 in important columns like country, language, director, prod_comp, actors, description and writer which have a small number of NaNs to address\n",
    "df_mov.fillna({\"language\": 0,\n",
    "                \"director\": 0,\n",
    "                \"country\": 0,\n",
    "                \"writer\": 0,\n",
    "                \"production_company\": 0,\n",
    "                \"actors\": 0,\n",
    "                \"description\": 0})\n",
    "df_mov.head(2)"
   ]
  },
  {
   "cell_type": "code",
   "execution_count": 21,
   "id": "bcec5147",
   "metadata": {},
   "outputs": [],
   "source": [
    "df_mov = df_mov.fillna({\"language\": 0,\n",
    "                                \"director\": 0,\n",
    "                                \"country\": 0,\n",
    "                                \"writer\": 0,\n",
    "                                \"production_company\": 0,\n",
    "                                \"actors\": 0,\n",
    "                                \"description\": 0})"
   ]
  },
  {
   "cell_type": "code",
   "execution_count": 22,
   "id": "86542660",
   "metadata": {},
   "outputs": [
    {
     "data": {
      "text/plain": [
       "country               0\n",
       "language              0\n",
       "director              0\n",
       "writer                0\n",
       "production_company    0\n",
       "actors                0\n",
       "description           0\n",
       "dtype: int64"
      ]
     },
     "execution_count": 22,
     "metadata": {},
     "output_type": "execute_result"
    }
   ],
   "source": [
    "df_mov[[\"country\", \"language\", \"director\", \"writer\", \"production_company\", \"actors\", \"description\"]].isnull().sum()"
   ]
  },
  {
   "cell_type": "code",
   "execution_count": 23,
   "id": "54c7d95b",
   "metadata": {},
   "outputs": [
    {
     "data": {
      "text/plain": [
       "1257"
      ]
     },
     "execution_count": 23,
     "metadata": {},
     "output_type": "execute_result"
    }
   ],
   "source": [
    "len(list(df_mov[\"genre\"].unique()))"
   ]
  },
  {
   "cell_type": "code",
   "execution_count": 24,
   "id": "bcfcfd46",
   "metadata": {},
   "outputs": [
    {
     "data": {
      "text/plain": [
       "266"
      ]
     },
     "execution_count": 24,
     "metadata": {},
     "output_type": "execute_result"
    }
   ],
   "source": [
    "len(df_mov[\"duration\"].unique())"
   ]
  },
  {
   "cell_type": "code",
   "execution_count": 25,
   "id": "294f4f20",
   "metadata": {},
   "outputs": [
    {
     "data": {
      "text/plain": [
       "4908"
      ]
     },
     "execution_count": 25,
     "metadata": {},
     "output_type": "execute_result"
    }
   ],
   "source": [
    "len(df_mov[\"country\"].unique())"
   ]
  },
  {
   "cell_type": "code",
   "execution_count": 26,
   "id": "96929d1e",
   "metadata": {},
   "outputs": [
    {
     "data": {
      "text/plain": [
       "4378"
      ]
     },
     "execution_count": 26,
     "metadata": {},
     "output_type": "execute_result"
    }
   ],
   "source": [
    "len(df_mov[\"language\"].unique())"
   ]
  },
  {
   "cell_type": "markdown",
   "id": "d8a09686",
   "metadata": {},
   "source": [
    "Exploring voting/review numeric values"
   ]
  },
  {
   "cell_type": "code",
   "execution_count": 27,
   "id": "9beac75c",
   "metadata": {},
   "outputs": [
    {
     "data": {
      "text/plain": [
       "imdb_title_id               0\n",
       "original_title              0\n",
       "year                        0\n",
       "genre                       0\n",
       "duration                    0\n",
       "country                     0\n",
       "language                    0\n",
       "director                    0\n",
       "writer                      0\n",
       "production_company          0\n",
       "actors                      0\n",
       "description                 0\n",
       "avg_vote                    0\n",
       "votes                       0\n",
       "metascore               72550\n",
       "reviews_from_users       7597\n",
       "reviews_from_critics    11797\n",
       "dtype: int64"
      ]
     },
     "execution_count": 27,
     "metadata": {},
     "output_type": "execute_result"
    }
   ],
   "source": [
    "# No more NaNs\n",
    "df_mov.isnull().sum()"
   ]
  },
  {
   "cell_type": "code",
   "execution_count": 28,
   "id": "2d26d0e1",
   "metadata": {},
   "outputs": [],
   "source": [
    "# I create another seperate dataframe to safe containing the number of votes and reviews\n",
    "df_reviews = pd.DataFrame(df_mov, columns=[\"avg_vote\", \"votes\", \"metascore\", \"reviews_from_users\", \"reviews_from_critics\"])"
   ]
  },
  {
   "cell_type": "code",
   "execution_count": 29,
   "id": "d2e0c8aa",
   "metadata": {},
   "outputs": [],
   "source": [
    "df_reviews.to_csv('../../data/df_reviews.csv')"
   ]
  },
  {
   "cell_type": "code",
   "execution_count": 30,
   "id": "757b49b8",
   "metadata": {},
   "outputs": [],
   "source": [
    "df_mov = df_mov.drop(\"avg_vote\", axis=1)\n",
    "df_mov = df_mov.drop(\"votes\", axis=1)\n",
    "df_mov = df_mov.drop(\"metascore\", axis=1)\n",
    "df_mov = df_mov.drop(\"reviews_from_users\", axis=1)\n",
    "df_mov = df_mov.drop(\"reviews_from_critics\", axis=1)"
   ]
  },
  {
   "cell_type": "code",
   "execution_count": 31,
   "id": "976e4d81",
   "metadata": {},
   "outputs": [
    {
     "data": {
      "text/html": [
       "<div>\n",
       "<style scoped>\n",
       "    .dataframe tbody tr th:only-of-type {\n",
       "        vertical-align: middle;\n",
       "    }\n",
       "\n",
       "    .dataframe tbody tr th {\n",
       "        vertical-align: top;\n",
       "    }\n",
       "\n",
       "    .dataframe thead th {\n",
       "        text-align: right;\n",
       "    }\n",
       "</style>\n",
       "<table border=\"1\" class=\"dataframe\">\n",
       "  <thead>\n",
       "    <tr style=\"text-align: right;\">\n",
       "      <th></th>\n",
       "      <th>imdb_title_id</th>\n",
       "      <th>original_title</th>\n",
       "      <th>year</th>\n",
       "      <th>genre</th>\n",
       "      <th>duration</th>\n",
       "      <th>country</th>\n",
       "      <th>language</th>\n",
       "      <th>director</th>\n",
       "      <th>writer</th>\n",
       "      <th>production_company</th>\n",
       "      <th>actors</th>\n",
       "      <th>description</th>\n",
       "    </tr>\n",
       "  </thead>\n",
       "  <tbody>\n",
       "    <tr>\n",
       "      <th>0</th>\n",
       "      <td>tt0000009</td>\n",
       "      <td>Miss Jerry</td>\n",
       "      <td>1894</td>\n",
       "      <td>Romance</td>\n",
       "      <td>45</td>\n",
       "      <td>USA</td>\n",
       "      <td>None</td>\n",
       "      <td>Alexander Black</td>\n",
       "      <td>Alexander Black</td>\n",
       "      <td>Alexander Black Photoplays</td>\n",
       "      <td>Blanche Bayliss, William Courtenay, Chauncey D...</td>\n",
       "      <td>The adventures of a female reporter in the 1890s.</td>\n",
       "    </tr>\n",
       "    <tr>\n",
       "      <th>1</th>\n",
       "      <td>tt0000574</td>\n",
       "      <td>The Story of the Kelly Gang</td>\n",
       "      <td>1906</td>\n",
       "      <td>Biography, Crime, Drama</td>\n",
       "      <td>70</td>\n",
       "      <td>Australia</td>\n",
       "      <td>None</td>\n",
       "      <td>Charles Tait</td>\n",
       "      <td>Charles Tait</td>\n",
       "      <td>J. and N. Tait</td>\n",
       "      <td>Elizabeth Tait, John Tait, Norman Campbell, Be...</td>\n",
       "      <td>True story of notorious Australian outlaw Ned ...</td>\n",
       "    </tr>\n",
       "    <tr>\n",
       "      <th>2</th>\n",
       "      <td>tt0001892</td>\n",
       "      <td>Den sorte drøm</td>\n",
       "      <td>1911</td>\n",
       "      <td>Drama</td>\n",
       "      <td>53</td>\n",
       "      <td>Germany, Denmark</td>\n",
       "      <td>0</td>\n",
       "      <td>Urban Gad</td>\n",
       "      <td>Urban Gad, Gebhard Schätzler-Perasini</td>\n",
       "      <td>Fotorama</td>\n",
       "      <td>Asta Nielsen, Valdemar Psilander, Gunnar Helse...</td>\n",
       "      <td>Two men of high rank are both wooing the beaut...</td>\n",
       "    </tr>\n",
       "    <tr>\n",
       "      <th>3</th>\n",
       "      <td>tt0002101</td>\n",
       "      <td>Cleopatra</td>\n",
       "      <td>1912</td>\n",
       "      <td>Drama, History</td>\n",
       "      <td>100</td>\n",
       "      <td>USA</td>\n",
       "      <td>English</td>\n",
       "      <td>Charles L. Gaskill</td>\n",
       "      <td>Victorien Sardou</td>\n",
       "      <td>Helen Gardner Picture Players</td>\n",
       "      <td>Helen Gardner, Pearl Sindelar, Miss Fielding, ...</td>\n",
       "      <td>The fabled queen of Egypt's affair with Roman ...</td>\n",
       "    </tr>\n",
       "    <tr>\n",
       "      <th>4</th>\n",
       "      <td>tt0002130</td>\n",
       "      <td>L'Inferno</td>\n",
       "      <td>1911</td>\n",
       "      <td>Adventure, Drama, Fantasy</td>\n",
       "      <td>68</td>\n",
       "      <td>Italy</td>\n",
       "      <td>Italian</td>\n",
       "      <td>Francesco Bertolini, Adolfo Padovan</td>\n",
       "      <td>Dante Alighieri</td>\n",
       "      <td>Milano Film</td>\n",
       "      <td>Salvatore Papa, Arturo Pirovano, Giuseppe de L...</td>\n",
       "      <td>Loosely adapted from Dante's Divine Comedy and...</td>\n",
       "    </tr>\n",
       "  </tbody>\n",
       "</table>\n",
       "</div>"
      ],
      "text/plain": [
       "  imdb_title_id               original_title  year                      genre  \\\n",
       "0     tt0000009                   Miss Jerry  1894                    Romance   \n",
       "1     tt0000574  The Story of the Kelly Gang  1906    Biography, Crime, Drama   \n",
       "2     tt0001892               Den sorte drøm  1911                      Drama   \n",
       "3     tt0002101                    Cleopatra  1912             Drama, History   \n",
       "4     tt0002130                    L'Inferno  1911  Adventure, Drama, Fantasy   \n",
       "\n",
       "   duration           country language                             director  \\\n",
       "0        45               USA     None                      Alexander Black   \n",
       "1        70         Australia     None                         Charles Tait   \n",
       "2        53  Germany, Denmark        0                            Urban Gad   \n",
       "3       100               USA  English                   Charles L. Gaskill   \n",
       "4        68             Italy  Italian  Francesco Bertolini, Adolfo Padovan   \n",
       "\n",
       "                                  writer             production_company  \\\n",
       "0                        Alexander Black     Alexander Black Photoplays   \n",
       "1                           Charles Tait                 J. and N. Tait   \n",
       "2  Urban Gad, Gebhard Schätzler-Perasini                       Fotorama   \n",
       "3                       Victorien Sardou  Helen Gardner Picture Players   \n",
       "4                        Dante Alighieri                    Milano Film   \n",
       "\n",
       "                                              actors  \\\n",
       "0  Blanche Bayliss, William Courtenay, Chauncey D...   \n",
       "1  Elizabeth Tait, John Tait, Norman Campbell, Be...   \n",
       "2  Asta Nielsen, Valdemar Psilander, Gunnar Helse...   \n",
       "3  Helen Gardner, Pearl Sindelar, Miss Fielding, ...   \n",
       "4  Salvatore Papa, Arturo Pirovano, Giuseppe de L...   \n",
       "\n",
       "                                         description  \n",
       "0  The adventures of a female reporter in the 1890s.  \n",
       "1  True story of notorious Australian outlaw Ned ...  \n",
       "2  Two men of high rank are both wooing the beaut...  \n",
       "3  The fabled queen of Egypt's affair with Roman ...  \n",
       "4  Loosely adapted from Dante's Divine Comedy and...  "
      ]
     },
     "execution_count": 31,
     "metadata": {},
     "output_type": "execute_result"
    }
   ],
   "source": [
    "df_mov.head()"
   ]
  },
  {
   "cell_type": "code",
   "execution_count": 32,
   "id": "ee6ba274",
   "metadata": {},
   "outputs": [
    {
     "name": "stdout",
     "output_type": "stream",
     "text": [
      "<class 'pandas.core.frame.DataFrame'>\n",
      "RangeIndex: 85855 entries, 0 to 85854\n",
      "Data columns (total 12 columns):\n",
      " #   Column              Non-Null Count  Dtype \n",
      "---  ------              --------------  ----- \n",
      " 0   imdb_title_id       85855 non-null  object\n",
      " 1   original_title      85855 non-null  object\n",
      " 2   year                85855 non-null  int64 \n",
      " 3   genre               85855 non-null  object\n",
      " 4   duration            85855 non-null  int64 \n",
      " 5   country             85855 non-null  object\n",
      " 6   language            85855 non-null  object\n",
      " 7   director            85855 non-null  object\n",
      " 8   writer              85855 non-null  object\n",
      " 9   production_company  85855 non-null  object\n",
      " 10  actors              85855 non-null  object\n",
      " 11  description         85855 non-null  object\n",
      "dtypes: int64(2), object(10)\n",
      "memory usage: 7.9+ MB\n"
     ]
    }
   ],
   "source": [
    "df_mov.info()"
   ]
  },
  {
   "cell_type": "code",
   "execution_count": 33,
   "id": "b71a8a5c",
   "metadata": {},
   "outputs": [
    {
     "data": {
      "text/plain": [
       "str"
      ]
     },
     "execution_count": 33,
     "metadata": {},
     "output_type": "execute_result"
    }
   ],
   "source": [
    "type(df_mov.language[0])"
   ]
  },
  {
   "cell_type": "code",
   "execution_count": 34,
   "id": "358e8b7d",
   "metadata": {},
   "outputs": [],
   "source": [
    "df_mov[\"language\"] = df_mov[\"language\"].str.replace('None', '0')"
   ]
  },
  {
   "cell_type": "code",
   "execution_count": 35,
   "id": "9a276d1e",
   "metadata": {},
   "outputs": [],
   "source": [
    "df_mov[['language']] = df_mov[['language']].fillna(value=0)"
   ]
  },
  {
   "cell_type": "code",
   "execution_count": null,
   "id": "1962333c",
   "metadata": {},
   "outputs": [],
   "source": []
  },
  {
   "cell_type": "code",
   "execution_count": 36,
   "id": "cac52fce",
   "metadata": {},
   "outputs": [
    {
     "data": {
      "text/plain": [
       "808"
      ]
     },
     "execution_count": 36,
     "metadata": {},
     "output_type": "execute_result"
    }
   ],
   "source": [
    "df_mov['duration'].max()"
   ]
  },
  {
   "cell_type": "code",
   "execution_count": 37,
   "id": "2e4d7ca6",
   "metadata": {},
   "outputs": [
    {
     "data": {
      "text/plain": [
       "41"
      ]
     },
     "execution_count": 37,
     "metadata": {},
     "output_type": "execute_result"
    }
   ],
   "source": [
    "df_mov['duration'].min()"
   ]
  },
  {
   "cell_type": "code",
   "execution_count": 38,
   "id": "c6ec3e5d",
   "metadata": {},
   "outputs": [],
   "source": [
    "# Bins for film duration\n",
    "bin_interval = [0, 60, 90, 120, 150, 180, 808]"
   ]
  },
  {
   "cell_type": "code",
   "execution_count": 39,
   "id": "d8f48f03",
   "metadata": {},
   "outputs": [],
   "source": [
    "labels = [\"0 < 1h\", \"1h < 1h30m\", \"1h30m < 2h\", \"2h < 2h30m\", \"2h30m < 3h\", \"3h+\"]"
   ]
  },
  {
   "cell_type": "code",
   "execution_count": 40,
   "id": "baf67048",
   "metadata": {},
   "outputs": [],
   "source": [
    "df_mov['duration_sets'] = pd.cut(df_mov['duration'], bins=bin_interval, labels=labels)"
   ]
  },
  {
   "cell_type": "code",
   "execution_count": 42,
   "id": "c9b95169",
   "metadata": {},
   "outputs": [],
   "source": [
    "df_mov.to_csv(\"../../data/imdb_movies_clean_1st.csv\")"
   ]
  },
  {
   "cell_type": "code",
   "execution_count": null,
   "id": "25dfa7ed",
   "metadata": {},
   "outputs": [],
   "source": [
    "#df_mov[\"duration_sets\"] = df_mov"
   ]
  }
 ],
 "metadata": {
  "kernelspec": {
   "display_name": "ironhack",
   "language": "python",
   "name": "ironhack"
  },
  "language_info": {
   "codemirror_mode": {
    "name": "ipython",
    "version": 3
   },
   "file_extension": ".py",
   "mimetype": "text/x-python",
   "name": "python",
   "nbconvert_exporter": "python",
   "pygments_lexer": "ipython3",
   "version": "3.8.8"
  }
 },
 "nbformat": 4,
 "nbformat_minor": 5
}
