{
 "cells": [
  {
   "cell_type": "code",
   "execution_count": null,
   "id": "a329d5dc",
   "metadata": {},
   "outputs": [],
   "source": [
    "# Convert currency to what we want\n",
    "#c = CurrencyConverter()\n",
    "#d="
   ]
  },
  {
   "cell_type": "code",
   "execution_count": null,
   "id": "7e2444fa",
   "metadata": {},
   "outputs": [],
   "source": [
    "df_mov_nam.corr().style.background_gradient(cmap='coolwarm')\n",
    "# Income/Currency columns are in string format\n",
    "# As planned we do have mildly strong correlations among reviews and votes"
   ]
  },
  {
   "cell_type": "code",
   "execution_count": null,
   "id": "bdeb80b9",
   "metadata": {},
   "outputs": [],
   "source": []
  },
  {
   "cell_type": "code",
   "execution_count": null,
   "id": "e6f639c4",
   "metadata": {},
   "outputs": [],
   "source": []
  },
  {
   "cell_type": "code",
   "execution_count": null,
   "id": "13fbf0e8",
   "metadata": {},
   "outputs": [],
   "source": []
  },
  {
   "cell_type": "code",
   "execution_count": null,
   "id": "f3c760d2",
   "metadata": {},
   "outputs": [],
   "source": []
  }
 ],
 "metadata": {
  "kernelspec": {
   "display_name": "ironhack",
   "language": "python",
   "name": "ironhack"
  },
  "language_info": {
   "codemirror_mode": {
    "name": "ipython",
    "version": 3
   },
   "file_extension": ".py",
   "mimetype": "text/x-python",
   "name": "python",
   "nbconvert_exporter": "python",
   "pygments_lexer": "ipython3",
   "version": "3.8.8"
  }
 },
 "nbformat": 4,
 "nbformat_minor": 5
}
