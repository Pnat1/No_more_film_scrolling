{
 "cells": [
  {
   "cell_type": "code",
   "execution_count": 1,
   "id": "15638510",
   "metadata": {},
   "outputs": [],
   "source": [
    "import pandas as pd\n",
    "import numpy as np\n",
    "import matplotlib as plt\n",
    "import regex as re\n",
    "import string\n",
    "import matplotlib as plt\n",
    "import seaborn as sns\n",
    "from currency_converter import CurrencyConverter"
   ]
  },
  {
   "cell_type": "code",
   "execution_count": 2,
   "id": "457f3a94",
   "metadata": {},
   "outputs": [
    {
     "name": "stderr",
     "output_type": "stream",
     "text": [
      "/home/guillermo/anaconda3/lib/python3.8/site-packages/IPython/core/interactiveshell.py:3437: DtypeWarning: Columns (3) have mixed types.Specify dtype option on import or set low_memory=False.\n",
      "  exec(code_obj, self.user_global_ns, self.user_ns)\n"
     ]
    }
   ],
   "source": [
    "df_mov_nam = pd.read_csv('../data/imdb_names.csv')\n",
    "# Data has been scraped from the publicly available website https://www.imdb.com.\n",
    "# All the movies with more than 100 votes have been scraped as of 01/01/2020."
   ]
  },
  {
   "cell_type": "code",
   "execution_count": 3,
   "id": "ce0c0b09",
   "metadata": {},
   "outputs": [
    {
     "data": {
      "text/plain": [
       "imdb_title_id             object\n",
       "title                     object\n",
       "original_title            object\n",
       "year                      object\n",
       "date_published            object\n",
       "genre                     object\n",
       "duration                   int64\n",
       "country                   object\n",
       "language                  object\n",
       "director                  object\n",
       "writer                    object\n",
       "production_company        object\n",
       "actors                    object\n",
       "description               object\n",
       "avg_vote                 float64\n",
       "votes                      int64\n",
       "budget                    object\n",
       "usa_gross_income          object\n",
       "worlwide_gross_income     object\n",
       "metascore                float64\n",
       "reviews_from_users       float64\n",
       "reviews_from_critics     float64\n",
       "dtype: object"
      ]
     },
     "execution_count": 3,
     "metadata": {},
     "output_type": "execute_result"
    }
   ],
   "source": [
    "df_mov_nam.dtypes\n",
    "# voting columns have different data types"
   ]
  },
  {
   "cell_type": "code",
   "execution_count": 4,
   "id": "6854ca64",
   "metadata": {},
   "outputs": [
    {
     "name": "stdout",
     "output_type": "stream",
     "text": [
      "<class 'pandas.core.frame.DataFrame'>\n",
      "RangeIndex: 85855 entries, 0 to 85854\n",
      "Data columns (total 22 columns):\n",
      " #   Column                 Non-Null Count  Dtype  \n",
      "---  ------                 --------------  -----  \n",
      " 0   imdb_title_id          85855 non-null  object \n",
      " 1   title                  85855 non-null  object \n",
      " 2   original_title         85855 non-null  object \n",
      " 3   year                   85855 non-null  object \n",
      " 4   date_published         85855 non-null  object \n",
      " 5   genre                  85855 non-null  object \n",
      " 6   duration               85855 non-null  int64  \n",
      " 7   country                85791 non-null  object \n",
      " 8   language               85022 non-null  object \n",
      " 9   director               85768 non-null  object \n",
      " 10  writer                 84283 non-null  object \n",
      " 11  production_company     81400 non-null  object \n",
      " 12  actors                 85786 non-null  object \n",
      " 13  description            83740 non-null  object \n",
      " 14  avg_vote               85855 non-null  float64\n",
      " 15  votes                  85855 non-null  int64  \n",
      " 16  budget                 23710 non-null  object \n",
      " 17  usa_gross_income       15326 non-null  object \n",
      " 18  worlwide_gross_income  31016 non-null  object \n",
      " 19  metascore              13305 non-null  float64\n",
      " 20  reviews_from_users     78258 non-null  float64\n",
      " 21  reviews_from_critics   74058 non-null  float64\n",
      "dtypes: float64(4), int64(2), object(16)\n",
      "memory usage: 14.4+ MB\n"
     ]
    }
   ],
   "source": [
    "df_mov_nam.info()"
   ]
  },
  {
   "cell_type": "code",
   "execution_count": 5,
   "id": "2251c61e",
   "metadata": {},
   "outputs": [
    {
     "data": {
      "text/plain": [
       "imdb_title_id                0\n",
       "title                        0\n",
       "original_title               0\n",
       "year                         0\n",
       "date_published               0\n",
       "genre                        0\n",
       "duration                     0\n",
       "country                     64\n",
       "language                   833\n",
       "director                    87\n",
       "writer                    1572\n",
       "production_company        4455\n",
       "actors                      69\n",
       "description               2115\n",
       "avg_vote                     0\n",
       "votes                        0\n",
       "budget                   62145\n",
       "usa_gross_income         70529\n",
       "worlwide_gross_income    54839\n",
       "metascore                72550\n",
       "reviews_from_users        7597\n",
       "reviews_from_critics     11797\n",
       "dtype: int64"
      ]
     },
     "execution_count": 5,
     "metadata": {},
     "output_type": "execute_result"
    }
   ],
   "source": [
    "df_mov_nam.isnull().sum()\n",
    "# Do we actually need income columns? I am going to leave them for now\n",
    "# We must no something about NaNs in the reviews columns and others like country, language, description"
   ]
  },
  {
   "cell_type": "code",
   "execution_count": 6,
   "id": "4de0f9f9",
   "metadata": {},
   "outputs": [
    {
     "data": {
      "text/plain": [
       "['Biographical sports drama based on the life of former Indian international cricketer,']"
      ]
     },
     "execution_count": 6,
     "metadata": {},
     "output_type": "execute_result"
    }
   ],
   "source": [
    "list(df_mov_nam[\"description\"].sample())"
   ]
  },
  {
   "cell_type": "code",
   "execution_count": 7,
   "id": "d88695b1",
   "metadata": {},
   "outputs": [
    {
     "data": {
      "text/plain": [
       "['USA',\n",
       " 'Bhutan, Germany, Nepal',\n",
       " 'USA',\n",
       " 'Italy',\n",
       " 'Serbia, Croatia',\n",
       " 'Russia',\n",
       " 'Hong Kong',\n",
       " 'UK',\n",
       " 'France',\n",
       " 'Netherlands']"
      ]
     },
     "execution_count": 7,
     "metadata": {},
     "output_type": "execute_result"
    }
   ],
   "source": [
    "list(df_mov_nam['country'].sample(10))\n",
    "# Movies can have more than one country of origin"
   ]
  },
  {
   "cell_type": "code",
   "execution_count": 8,
   "id": "8d47bd3c",
   "metadata": {},
   "outputs": [
    {
     "name": "stdout",
     "output_type": "stream",
     "text": [
      "['1894-10-09' '1906-12-26' '1911-08-19' ... '2020-10-22' '2019-01-13'\n",
      " '2020-09-04']\n"
     ]
    }
   ],
   "source": [
    "print(df_mov_nam[\"date_published\"].unique())\n",
    "# Month and day are not important for the study so we are going to drop this column"
   ]
  },
  {
   "cell_type": "code",
   "execution_count": 9,
   "id": "568ded79",
   "metadata": {},
   "outputs": [],
   "source": [
    "# We don't need daya and month, budget, or title in italian for out study\n",
    "df_mov_nam = df_mov_nam.drop(\"date_published\", axis=1)\n",
    "df_mov_nam = df_mov_nam.drop(\"budget\", axis=1)\n",
    "df_mov_nam = df_mov_nam.drop(\"title\", axis=1)"
   ]
  },
  {
   "cell_type": "code",
   "execution_count": 41,
   "id": "cd6177c4",
   "metadata": {},
   "outputs": [
    {
     "data": {
      "text/html": [
       "<div>\n",
       "<style scoped>\n",
       "    .dataframe tbody tr th:only-of-type {\n",
       "        vertical-align: middle;\n",
       "    }\n",
       "\n",
       "    .dataframe tbody tr th {\n",
       "        vertical-align: top;\n",
       "    }\n",
       "\n",
       "    .dataframe thead th {\n",
       "        text-align: right;\n",
       "    }\n",
       "</style>\n",
       "<table border=\"1\" class=\"dataframe\">\n",
       "  <thead>\n",
       "    <tr style=\"text-align: right;\">\n",
       "      <th></th>\n",
       "      <th>imdb_title_id</th>\n",
       "      <th>original_title</th>\n",
       "      <th>year</th>\n",
       "      <th>genre</th>\n",
       "      <th>duration</th>\n",
       "      <th>country</th>\n",
       "      <th>language</th>\n",
       "      <th>director</th>\n",
       "      <th>writer</th>\n",
       "      <th>production_company</th>\n",
       "      <th>actors</th>\n",
       "      <th>description</th>\n",
       "      <th>avg_vote</th>\n",
       "      <th>votes</th>\n",
       "      <th>usa_gross_income</th>\n",
       "      <th>worlwide_gross_income</th>\n",
       "      <th>metascore</th>\n",
       "      <th>reviews_from_users</th>\n",
       "      <th>reviews_from_critics</th>\n",
       "    </tr>\n",
       "  </thead>\n",
       "  <tbody>\n",
       "    <tr>\n",
       "      <th>0</th>\n",
       "      <td>tt0000009</td>\n",
       "      <td>Miss Jerry</td>\n",
       "      <td>1894</td>\n",
       "      <td>Romance</td>\n",
       "      <td>45</td>\n",
       "      <td>USA</td>\n",
       "      <td>None</td>\n",
       "      <td>Alexander Black</td>\n",
       "      <td>Alexander Black</td>\n",
       "      <td>Alexander Black Photoplays</td>\n",
       "      <td>Blanche Bayliss, William Courtenay, Chauncey D...</td>\n",
       "      <td>The adventures of a female reporter in the 1890s.</td>\n",
       "      <td>5.9</td>\n",
       "      <td>154</td>\n",
       "      <td>0</td>\n",
       "      <td>0</td>\n",
       "      <td>46.040826</td>\n",
       "      <td>1.0</td>\n",
       "      <td>2.0</td>\n",
       "    </tr>\n",
       "    <tr>\n",
       "      <th>1</th>\n",
       "      <td>tt0000574</td>\n",
       "      <td>The Story of the Kelly Gang</td>\n",
       "      <td>1906</td>\n",
       "      <td>Biography, Crime, Drama</td>\n",
       "      <td>70</td>\n",
       "      <td>Australia</td>\n",
       "      <td>None</td>\n",
       "      <td>Charles Tait</td>\n",
       "      <td>Charles Tait</td>\n",
       "      <td>J. and N. Tait</td>\n",
       "      <td>Elizabeth Tait, John Tait, Norman Campbell, Be...</td>\n",
       "      <td>True story of notorious Australian outlaw Ned ...</td>\n",
       "      <td>6.1</td>\n",
       "      <td>589</td>\n",
       "      <td>0</td>\n",
       "      <td>0</td>\n",
       "      <td>46.040826</td>\n",
       "      <td>7.0</td>\n",
       "      <td>7.0</td>\n",
       "    </tr>\n",
       "    <tr>\n",
       "      <th>2</th>\n",
       "      <td>tt0001892</td>\n",
       "      <td>Den sorte drøm</td>\n",
       "      <td>1911</td>\n",
       "      <td>Drama</td>\n",
       "      <td>53</td>\n",
       "      <td>Germany, Denmark</td>\n",
       "      <td>0</td>\n",
       "      <td>Urban Gad</td>\n",
       "      <td>Urban Gad, Gebhard Schätzler-Perasini</td>\n",
       "      <td>Fotorama</td>\n",
       "      <td>Asta Nielsen, Valdemar Psilander, Gunnar Helse...</td>\n",
       "      <td>Two men of high rank are both wooing the beaut...</td>\n",
       "      <td>5.8</td>\n",
       "      <td>188</td>\n",
       "      <td>0</td>\n",
       "      <td>0</td>\n",
       "      <td>46.040826</td>\n",
       "      <td>5.0</td>\n",
       "      <td>2.0</td>\n",
       "    </tr>\n",
       "    <tr>\n",
       "      <th>3</th>\n",
       "      <td>tt0002101</td>\n",
       "      <td>Cleopatra</td>\n",
       "      <td>1912</td>\n",
       "      <td>Drama, History</td>\n",
       "      <td>100</td>\n",
       "      <td>USA</td>\n",
       "      <td>English</td>\n",
       "      <td>Charles L. Gaskill</td>\n",
       "      <td>Victorien Sardou</td>\n",
       "      <td>Helen Gardner Picture Players</td>\n",
       "      <td>Helen Gardner, Pearl Sindelar, Miss Fielding, ...</td>\n",
       "      <td>The fabled queen of Egypt's affair with Roman ...</td>\n",
       "      <td>5.2</td>\n",
       "      <td>446</td>\n",
       "      <td>0</td>\n",
       "      <td>0</td>\n",
       "      <td>46.040826</td>\n",
       "      <td>25.0</td>\n",
       "      <td>3.0</td>\n",
       "    </tr>\n",
       "    <tr>\n",
       "      <th>4</th>\n",
       "      <td>tt0002130</td>\n",
       "      <td>L'Inferno</td>\n",
       "      <td>1911</td>\n",
       "      <td>Adventure, Drama, Fantasy</td>\n",
       "      <td>68</td>\n",
       "      <td>Italy</td>\n",
       "      <td>Italian</td>\n",
       "      <td>Francesco Bertolini, Adolfo Padovan</td>\n",
       "      <td>Dante Alighieri</td>\n",
       "      <td>Milano Film</td>\n",
       "      <td>Salvatore Papa, Arturo Pirovano, Giuseppe de L...</td>\n",
       "      <td>Loosely adapted from Dante's Divine Comedy and...</td>\n",
       "      <td>7.0</td>\n",
       "      <td>2237</td>\n",
       "      <td>0</td>\n",
       "      <td>0</td>\n",
       "      <td>46.040826</td>\n",
       "      <td>31.0</td>\n",
       "      <td>14.0</td>\n",
       "    </tr>\n",
       "  </tbody>\n",
       "</table>\n",
       "</div>"
      ],
      "text/plain": [
       "  imdb_title_id               original_title  year                      genre  \\\n",
       "0     tt0000009                   Miss Jerry  1894                    Romance   \n",
       "1     tt0000574  The Story of the Kelly Gang  1906    Biography, Crime, Drama   \n",
       "2     tt0001892               Den sorte drøm  1911                      Drama   \n",
       "3     tt0002101                    Cleopatra  1912             Drama, History   \n",
       "4     tt0002130                    L'Inferno  1911  Adventure, Drama, Fantasy   \n",
       "\n",
       "   duration           country language                             director  \\\n",
       "0        45               USA     None                      Alexander Black   \n",
       "1        70         Australia     None                         Charles Tait   \n",
       "2        53  Germany, Denmark        0                            Urban Gad   \n",
       "3       100               USA  English                   Charles L. Gaskill   \n",
       "4        68             Italy  Italian  Francesco Bertolini, Adolfo Padovan   \n",
       "\n",
       "                                  writer             production_company  \\\n",
       "0                        Alexander Black     Alexander Black Photoplays   \n",
       "1                           Charles Tait                 J. and N. Tait   \n",
       "2  Urban Gad, Gebhard Schätzler-Perasini                       Fotorama   \n",
       "3                       Victorien Sardou  Helen Gardner Picture Players   \n",
       "4                        Dante Alighieri                    Milano Film   \n",
       "\n",
       "                                              actors  \\\n",
       "0  Blanche Bayliss, William Courtenay, Chauncey D...   \n",
       "1  Elizabeth Tait, John Tait, Norman Campbell, Be...   \n",
       "2  Asta Nielsen, Valdemar Psilander, Gunnar Helse...   \n",
       "3  Helen Gardner, Pearl Sindelar, Miss Fielding, ...   \n",
       "4  Salvatore Papa, Arturo Pirovano, Giuseppe de L...   \n",
       "\n",
       "                                         description  avg_vote  votes  \\\n",
       "0  The adventures of a female reporter in the 1890s.       5.9    154   \n",
       "1  True story of notorious Australian outlaw Ned ...       6.1    589   \n",
       "2  Two men of high rank are both wooing the beaut...       5.8    188   \n",
       "3  The fabled queen of Egypt's affair with Roman ...       5.2    446   \n",
       "4  Loosely adapted from Dante's Divine Comedy and...       7.0   2237   \n",
       "\n",
       "  usa_gross_income worlwide_gross_income  metascore  reviews_from_users  \\\n",
       "0                0                     0  46.040826                 1.0   \n",
       "1                0                     0  46.040826                 7.0   \n",
       "2                0                     0  46.040826                 5.0   \n",
       "3                0                     0  46.040826                25.0   \n",
       "4                0                     0  46.040826                31.0   \n",
       "\n",
       "   reviews_from_critics  \n",
       "0                   2.0  \n",
       "1                   7.0  \n",
       "2                   2.0  \n",
       "3                   3.0  \n",
       "4                  14.0  "
      ]
     },
     "execution_count": 41,
     "metadata": {},
     "output_type": "execute_result"
    }
   ],
   "source": [
    "df_mov_nam.head(5)"
   ]
  },
  {
   "cell_type": "markdown",
   "id": "08057c2b",
   "metadata": {},
   "source": [
    "year is an important column that must be cleaned"
   ]
  },
  {
   "cell_type": "code",
   "execution_count": 11,
   "id": "a62469f1",
   "metadata": {},
   "outputs": [
    {
     "data": {
      "text/plain": [
       "numpy.ndarray"
      ]
     },
     "execution_count": 11,
     "metadata": {},
     "output_type": "execute_result"
    }
   ],
   "source": [
    "type(df_mov_nam[\"year\"].unique())"
   ]
  },
  {
   "cell_type": "code",
   "execution_count": 12,
   "id": "7f4ed6cc",
   "metadata": {},
   "outputs": [],
   "source": [
    "def cleanstryear(x):\n",
    "    '''\n",
    "    This function clean my column year database from string characters\n",
    "    '''\n",
    "    if x == 'TV Movie 2019':\n",
    "        return 2019\n",
    "    else:\n",
    "        return x"
   ]
  },
  {
   "cell_type": "code",
   "execution_count": 13,
   "id": "50c3a4f2",
   "metadata": {},
   "outputs": [],
   "source": [
    "df_mov_nam.year=df_mov_nam.year.apply(cleanstryear)"
   ]
  },
  {
   "cell_type": "code",
   "execution_count": 14,
   "id": "4b6a05bc",
   "metadata": {},
   "outputs": [],
   "source": [
    "# Tranform all values in year to INTS\n",
    "df_mov_nam[\"year\"] = df_mov_nam.year.astype(int)"
   ]
  },
  {
   "cell_type": "code",
   "execution_count": 15,
   "id": "9538149f",
   "metadata": {
    "scrolled": true
   },
   "outputs": [
    {
     "data": {
      "text/plain": [
       "array([1894, 1906, 1911, 1912, 1919, 1913, 1914, 1915, 1916, 1917, 1918,\n",
       "       1920, 1921, 1924, 1922, 1923, 1925, 1926, 1935, 1927, 1928, 1983,\n",
       "       1929, 1930, 1932, 1931, 1937, 1938, 1933, 1934, 1936, 1940, 1939,\n",
       "       1942, 1943, 1941, 1948, 1944, 2001, 1946, 1945, 1947, 1973, 1949,\n",
       "       1950, 1952, 1951, 1962, 1953, 1954, 1955, 1961, 1956, 1958, 1957,\n",
       "       1959, 1960, 1963, 1965, 1971, 1964, 1966, 1968, 1967, 1969, 1976,\n",
       "       1970, 1979, 1972, 1981, 1978, 2000, 1989, 1975, 1974, 1986, 1990,\n",
       "       2018, 1977, 1982, 1980, 1993, 1984, 1985, 1988, 1987, 2005, 1991,\n",
       "       2002, 1994, 1992, 1995, 2017, 1997, 1996, 2006, 1999, 1998, 2007,\n",
       "       2008, 2003, 2004, 2010, 2009, 2011, 2013, 2012, 2016, 2015, 2014,\n",
       "       2019, 2020])"
      ]
     },
     "execution_count": 15,
     "metadata": {},
     "output_type": "execute_result"
    }
   ],
   "source": [
    "df_mov_nam.year.unique()"
   ]
  },
  {
   "cell_type": "markdown",
   "id": "3be3761f",
   "metadata": {},
   "source": [
    "NaN treatment"
   ]
  },
  {
   "cell_type": "code",
   "execution_count": 16,
   "id": "0064de9b",
   "metadata": {},
   "outputs": [
    {
     "data": {
      "text/html": [
       "<div>\n",
       "<style scoped>\n",
       "    .dataframe tbody tr th:only-of-type {\n",
       "        vertical-align: middle;\n",
       "    }\n",
       "\n",
       "    .dataframe tbody tr th {\n",
       "        vertical-align: top;\n",
       "    }\n",
       "\n",
       "    .dataframe thead th {\n",
       "        text-align: right;\n",
       "    }\n",
       "</style>\n",
       "<table border=\"1\" class=\"dataframe\">\n",
       "  <thead>\n",
       "    <tr style=\"text-align: right;\">\n",
       "      <th></th>\n",
       "      <th>imdb_title_id</th>\n",
       "      <th>original_title</th>\n",
       "      <th>year</th>\n",
       "      <th>genre</th>\n",
       "      <th>duration</th>\n",
       "      <th>country</th>\n",
       "      <th>language</th>\n",
       "      <th>director</th>\n",
       "      <th>writer</th>\n",
       "      <th>production_company</th>\n",
       "      <th>actors</th>\n",
       "      <th>description</th>\n",
       "      <th>avg_vote</th>\n",
       "      <th>votes</th>\n",
       "      <th>usa_gross_income</th>\n",
       "      <th>worlwide_gross_income</th>\n",
       "      <th>metascore</th>\n",
       "      <th>reviews_from_users</th>\n",
       "      <th>reviews_from_critics</th>\n",
       "    </tr>\n",
       "  </thead>\n",
       "  <tbody>\n",
       "    <tr>\n",
       "      <th>0</th>\n",
       "      <td>tt0000009</td>\n",
       "      <td>Miss Jerry</td>\n",
       "      <td>1894</td>\n",
       "      <td>Romance</td>\n",
       "      <td>45</td>\n",
       "      <td>USA</td>\n",
       "      <td>None</td>\n",
       "      <td>Alexander Black</td>\n",
       "      <td>Alexander Black</td>\n",
       "      <td>Alexander Black Photoplays</td>\n",
       "      <td>Blanche Bayliss, William Courtenay, Chauncey D...</td>\n",
       "      <td>The adventures of a female reporter in the 1890s.</td>\n",
       "      <td>5.9</td>\n",
       "      <td>154</td>\n",
       "      <td>NaN</td>\n",
       "      <td>NaN</td>\n",
       "      <td>NaN</td>\n",
       "      <td>1.0</td>\n",
       "      <td>2.0</td>\n",
       "    </tr>\n",
       "    <tr>\n",
       "      <th>1</th>\n",
       "      <td>tt0000574</td>\n",
       "      <td>The Story of the Kelly Gang</td>\n",
       "      <td>1906</td>\n",
       "      <td>Biography, Crime, Drama</td>\n",
       "      <td>70</td>\n",
       "      <td>Australia</td>\n",
       "      <td>None</td>\n",
       "      <td>Charles Tait</td>\n",
       "      <td>Charles Tait</td>\n",
       "      <td>J. and N. Tait</td>\n",
       "      <td>Elizabeth Tait, John Tait, Norman Campbell, Be...</td>\n",
       "      <td>True story of notorious Australian outlaw Ned ...</td>\n",
       "      <td>6.1</td>\n",
       "      <td>589</td>\n",
       "      <td>NaN</td>\n",
       "      <td>NaN</td>\n",
       "      <td>NaN</td>\n",
       "      <td>7.0</td>\n",
       "      <td>7.0</td>\n",
       "    </tr>\n",
       "  </tbody>\n",
       "</table>\n",
       "</div>"
      ],
      "text/plain": [
       "  imdb_title_id               original_title  year                    genre  \\\n",
       "0     tt0000009                   Miss Jerry  1894                  Romance   \n",
       "1     tt0000574  The Story of the Kelly Gang  1906  Biography, Crime, Drama   \n",
       "\n",
       "   duration    country language         director           writer  \\\n",
       "0        45        USA     None  Alexander Black  Alexander Black   \n",
       "1        70  Australia     None     Charles Tait     Charles Tait   \n",
       "\n",
       "           production_company  \\\n",
       "0  Alexander Black Photoplays   \n",
       "1              J. and N. Tait   \n",
       "\n",
       "                                              actors  \\\n",
       "0  Blanche Bayliss, William Courtenay, Chauncey D...   \n",
       "1  Elizabeth Tait, John Tait, Norman Campbell, Be...   \n",
       "\n",
       "                                         description  avg_vote  votes  \\\n",
       "0  The adventures of a female reporter in the 1890s.       5.9    154   \n",
       "1  True story of notorious Australian outlaw Ned ...       6.1    589   \n",
       "\n",
       "  usa_gross_income worlwide_gross_income  metascore  reviews_from_users  \\\n",
       "0              NaN                   NaN        NaN                 1.0   \n",
       "1              NaN                   NaN        NaN                 7.0   \n",
       "\n",
       "   reviews_from_critics  \n",
       "0                   2.0  \n",
       "1                   7.0  "
      ]
     },
     "execution_count": 16,
     "metadata": {},
     "output_type": "execute_result"
    }
   ],
   "source": [
    "# Filling string NaNs with 0 in important columns like country, language, director, prod_comp, actors, description and writer which have a small number of NaNs to address\n",
    "df_mov_nam.fillna({\"language\": 0,\n",
    "                    \"director\": 0,\n",
    "                    \"country\": 0,\n",
    "                    \"writer\": 0,\n",
    "                    \"production_company\": 0,\n",
    "                    \"actors\": 0,\n",
    "                    \"description\": 0})\n",
    "df_mov_nam.head(2)"
   ]
  },
  {
   "cell_type": "code",
   "execution_count": 17,
   "id": "bcec5147",
   "metadata": {},
   "outputs": [],
   "source": [
    "df_mov_nam = df_mov_nam.fillna({\"language\": 0,\n",
    "                                \"director\": 0,\n",
    "                                \"country\": 0,\n",
    "                                \"writer\": 0,\n",
    "                                \"production_company\": 0,\n",
    "                                \"actors\": 0,\n",
    "                                \"description\": 0})"
   ]
  },
  {
   "cell_type": "code",
   "execution_count": 18,
   "id": "86542660",
   "metadata": {},
   "outputs": [
    {
     "data": {
      "text/plain": [
       "country               0\n",
       "language              0\n",
       "director              0\n",
       "writer                0\n",
       "production_company    0\n",
       "actors                0\n",
       "description           0\n",
       "dtype: int64"
      ]
     },
     "execution_count": 18,
     "metadata": {},
     "output_type": "execute_result"
    }
   ],
   "source": [
    "df_mov_nam[[\"country\", \"language\", \"director\", \"writer\", \"production_company\", \"actors\", \"description\"]].isnull().sum()"
   ]
  },
  {
   "cell_type": "code",
   "execution_count": 19,
   "id": "54c7d95b",
   "metadata": {},
   "outputs": [
    {
     "data": {
      "text/plain": [
       "1257"
      ]
     },
     "execution_count": 19,
     "metadata": {},
     "output_type": "execute_result"
    }
   ],
   "source": [
    "len(list(df_mov_nam[\"genre\"].unique()))"
   ]
  },
  {
   "cell_type": "code",
   "execution_count": 20,
   "id": "bcfcfd46",
   "metadata": {},
   "outputs": [
    {
     "data": {
      "text/plain": [
       "266"
      ]
     },
     "execution_count": 20,
     "metadata": {},
     "output_type": "execute_result"
    }
   ],
   "source": [
    "len(df_mov_nam[\"duration\"].unique())"
   ]
  },
  {
   "cell_type": "code",
   "execution_count": 21,
   "id": "294f4f20",
   "metadata": {},
   "outputs": [
    {
     "data": {
      "text/plain": [
       "4908"
      ]
     },
     "execution_count": 21,
     "metadata": {},
     "output_type": "execute_result"
    }
   ],
   "source": [
    "len(df_mov_nam[\"country\"].unique())"
   ]
  },
  {
   "cell_type": "code",
   "execution_count": 22,
   "id": "96929d1e",
   "metadata": {},
   "outputs": [
    {
     "data": {
      "text/plain": [
       "4378"
      ]
     },
     "execution_count": 22,
     "metadata": {},
     "output_type": "execute_result"
    }
   ],
   "source": [
    "len(df_mov_nam[\"language\"].unique())"
   ]
  },
  {
   "cell_type": "markdown",
   "id": "d8a09686",
   "metadata": {},
   "source": [
    "Exploring voting/review numeric values"
   ]
  },
  {
   "cell_type": "code",
   "execution_count": 23,
   "id": "39ec95e1",
   "metadata": {},
   "outputs": [],
   "source": [
    "df_mov_nam = df_mov_nam.fillna({\"budget\": 0,\n",
    "                                \"usa_gross_income\": 0,\n",
    "                                \"worlwide_gross_income\": 0})"
   ]
  },
  {
   "cell_type": "code",
   "execution_count": 24,
   "id": "263d36c9",
   "metadata": {},
   "outputs": [
    {
     "data": {
      "text/plain": [
       "usa_gross_income         0\n",
       "worlwide_gross_income    0\n",
       "dtype: int64"
      ]
     },
     "execution_count": 24,
     "metadata": {},
     "output_type": "execute_result"
    }
   ],
   "source": [
    "df_mov_nam[[\"usa_gross_income\", \"worlwide_gross_income\"]].isnull().sum()"
   ]
  },
  {
   "cell_type": "code",
   "execution_count": 25,
   "id": "4ec3d089",
   "metadata": {},
   "outputs": [
    {
     "data": {
      "text/plain": [
       "14858"
      ]
     },
     "execution_count": 25,
     "metadata": {},
     "output_type": "execute_result"
    }
   ],
   "source": [
    "len(df_mov_nam[\"usa_gross_income\"].unique())"
   ]
  },
  {
   "cell_type": "code",
   "execution_count": 26,
   "id": "81141ee9",
   "metadata": {},
   "outputs": [
    {
     "data": {
      "text/plain": [
       "30415"
      ]
     },
     "execution_count": 26,
     "metadata": {},
     "output_type": "execute_result"
    }
   ],
   "source": [
    "#Besides being the most indicative it has the most values\n",
    "len(df_mov_nam[\"worlwide_gross_income\"].unique())"
   ]
  },
  {
   "cell_type": "code",
   "execution_count": 27,
   "id": "8bf9d7bc",
   "metadata": {},
   "outputs": [],
   "source": [
    "# Manage the NaNs with the mean of each column\n",
    "df_mov_nam = df_mov_nam.fillna(value=df_mov_nam[\"reviews_from_users\"].mean())\n",
    "df_mov_nam = df_mov_nam.fillna(value=df_mov_nam[\"reviews_from_critics\"].mean())"
   ]
  },
  {
   "cell_type": "code",
   "execution_count": 28,
   "id": "ee6ba274",
   "metadata": {},
   "outputs": [
    {
     "name": "stdout",
     "output_type": "stream",
     "text": [
      "<class 'pandas.core.frame.DataFrame'>\n",
      "RangeIndex: 85855 entries, 0 to 85854\n",
      "Data columns (total 19 columns):\n",
      " #   Column                 Non-Null Count  Dtype  \n",
      "---  ------                 --------------  -----  \n",
      " 0   imdb_title_id          85855 non-null  object \n",
      " 1   original_title         85855 non-null  object \n",
      " 2   year                   85855 non-null  int64  \n",
      " 3   genre                  85855 non-null  object \n",
      " 4   duration               85855 non-null  int64  \n",
      " 5   country                85855 non-null  object \n",
      " 6   language               85855 non-null  object \n",
      " 7   director               85855 non-null  object \n",
      " 8   writer                 85855 non-null  object \n",
      " 9   production_company     85855 non-null  object \n",
      " 10  actors                 85855 non-null  object \n",
      " 11  description            85855 non-null  object \n",
      " 12  avg_vote               85855 non-null  float64\n",
      " 13  votes                  85855 non-null  int64  \n",
      " 14  usa_gross_income       85855 non-null  object \n",
      " 15  worlwide_gross_income  85855 non-null  object \n",
      " 16  metascore              85855 non-null  float64\n",
      " 17  reviews_from_users     85855 non-null  float64\n",
      " 18  reviews_from_critics   85855 non-null  float64\n",
      "dtypes: float64(4), int64(3), object(12)\n",
      "memory usage: 12.4+ MB\n"
     ]
    }
   ],
   "source": [
    "df_mov_nam.info()"
   ]
  },
  {
   "cell_type": "code",
   "execution_count": 29,
   "id": "9beac75c",
   "metadata": {},
   "outputs": [
    {
     "data": {
      "text/plain": [
       "imdb_title_id            0\n",
       "original_title           0\n",
       "year                     0\n",
       "genre                    0\n",
       "duration                 0\n",
       "country                  0\n",
       "language                 0\n",
       "director                 0\n",
       "writer                   0\n",
       "production_company       0\n",
       "actors                   0\n",
       "description              0\n",
       "avg_vote                 0\n",
       "votes                    0\n",
       "usa_gross_income         0\n",
       "worlwide_gross_income    0\n",
       "metascore                0\n",
       "reviews_from_users       0\n",
       "reviews_from_critics     0\n",
       "dtype: int64"
      ]
     },
     "execution_count": 29,
     "metadata": {},
     "output_type": "execute_result"
    }
   ],
   "source": [
    "# No more NaNs\n",
    "df_mov_nam.isnull().sum()"
   ]
  },
  {
   "cell_type": "code",
   "execution_count": 30,
   "id": "2be16898",
   "metadata": {},
   "outputs": [],
   "source": [
    "df_mov_nam[\"worlwide_gross_income\"] = df_mov_nam[\"worlwide_gross_income\"].replace('$', '')\n",
    "df_mov_nam[\"worlwide_gross_income\"] = df_mov_nam[\"worlwide_gross_income\"].replace(' ', '')"
   ]
  },
  {
   "cell_type": "code",
   "execution_count": 31,
   "id": "ae2c5ecf",
   "metadata": {},
   "outputs": [],
   "source": [
    "lista = []\n",
    "for i in df_mov_nam.worlwide_gross_income:\n",
    "    if i == 'nan':\n",
    "        lista.append(np.nan)\n",
    "    else:\n",
    "        lista.append(i)"
   ]
  },
  {
   "cell_type": "code",
   "execution_count": 32,
   "id": "cfc47abc",
   "metadata": {},
   "outputs": [],
   "source": [
    "# Convert currency to what we want\n",
    "#c = CurrencyConverter()\n",
    "#d="
   ]
  },
  {
   "cell_type": "code",
   "execution_count": 33,
   "id": "1b51a9cf",
   "metadata": {},
   "outputs": [
    {
     "data": {
      "text/html": [
       "<style type=\"text/css\">\n",
       "#T_62a14_row0_col0, #T_62a14_row1_col1, #T_62a14_row2_col2, #T_62a14_row3_col3, #T_62a14_row4_col4, #T_62a14_row5_col5, #T_62a14_row6_col6 {\n",
       "  background-color: #b40426;\n",
       "  color: #f1f1f1;\n",
       "}\n",
       "#T_62a14_row0_col1, #T_62a14_row1_col3 {\n",
       "  background-color: #506bda;\n",
       "  color: #f1f1f1;\n",
       "}\n",
       "#T_62a14_row0_col2, #T_62a14_row0_col3, #T_62a14_row0_col4, #T_62a14_row0_col5, #T_62a14_row0_col6, #T_62a14_row1_col6, #T_62a14_row2_col0, #T_62a14_row4_col1 {\n",
       "  background-color: #3b4cc0;\n",
       "  color: #f1f1f1;\n",
       "}\n",
       "#T_62a14_row1_col0 {\n",
       "  background-color: #a6c4fe;\n",
       "  color: #000000;\n",
       "}\n",
       "#T_62a14_row1_col2 {\n",
       "  background-color: #b9d0f9;\n",
       "  color: #000000;\n",
       "}\n",
       "#T_62a14_row1_col4 {\n",
       "  background-color: #4e68d8;\n",
       "  color: #f1f1f1;\n",
       "}\n",
       "#T_62a14_row1_col5, #T_62a14_row2_col6 {\n",
       "  background-color: #4c66d6;\n",
       "  color: #f1f1f1;\n",
       "}\n",
       "#T_62a14_row2_col1 {\n",
       "  background-color: #6a8bef;\n",
       "  color: #f1f1f1;\n",
       "}\n",
       "#T_62a14_row2_col3 {\n",
       "  background-color: #5e7de7;\n",
       "  color: #f1f1f1;\n",
       "}\n",
       "#T_62a14_row2_col4 {\n",
       "  background-color: #84a7fc;\n",
       "  color: #f1f1f1;\n",
       "}\n",
       "#T_62a14_row2_col5 {\n",
       "  background-color: #4f69d9;\n",
       "  color: #f1f1f1;\n",
       "}\n",
       "#T_62a14_row3_col0 {\n",
       "  background-color: #85a8fc;\n",
       "  color: #f1f1f1;\n",
       "}\n",
       "#T_62a14_row3_col1 {\n",
       "  background-color: #4055c8;\n",
       "  color: #f1f1f1;\n",
       "}\n",
       "#T_62a14_row3_col2 {\n",
       "  background-color: #a3c2fe;\n",
       "  color: #000000;\n",
       "}\n",
       "#T_62a14_row3_col4 {\n",
       "  background-color: #9bbcff;\n",
       "  color: #000000;\n",
       "}\n",
       "#T_62a14_row3_col5 {\n",
       "  background-color: #f49a7b;\n",
       "  color: #000000;\n",
       "}\n",
       "#T_62a14_row3_col6 {\n",
       "  background-color: #f2c9b4;\n",
       "  color: #000000;\n",
       "}\n",
       "#T_62a14_row4_col0 {\n",
       "  background-color: #81a4fb;\n",
       "  color: #f1f1f1;\n",
       "}\n",
       "#T_62a14_row4_col2 {\n",
       "  background-color: #bed2f6;\n",
       "  color: #000000;\n",
       "}\n",
       "#T_62a14_row4_col3 {\n",
       "  background-color: #97b8ff;\n",
       "  color: #000000;\n",
       "}\n",
       "#T_62a14_row4_col5 {\n",
       "  background-color: #80a3fa;\n",
       "  color: #f1f1f1;\n",
       "}\n",
       "#T_62a14_row4_col6, #T_62a14_row6_col2 {\n",
       "  background-color: #a7c5fe;\n",
       "  color: #000000;\n",
       "}\n",
       "#T_62a14_row5_col0 {\n",
       "  background-color: #88abfd;\n",
       "  color: #000000;\n",
       "}\n",
       "#T_62a14_row5_col1 {\n",
       "  background-color: #3f53c6;\n",
       "  color: #f1f1f1;\n",
       "}\n",
       "#T_62a14_row5_col2, #T_62a14_row6_col0 {\n",
       "  background-color: #9abbff;\n",
       "  color: #000000;\n",
       "}\n",
       "#T_62a14_row5_col3 {\n",
       "  background-color: #f4987a;\n",
       "  color: #000000;\n",
       "}\n",
       "#T_62a14_row5_col4 {\n",
       "  background-color: #86a9fc;\n",
       "  color: #f1f1f1;\n",
       "}\n",
       "#T_62a14_row5_col6 {\n",
       "  background-color: #f2cab5;\n",
       "  color: #000000;\n",
       "}\n",
       "#T_62a14_row6_col1 {\n",
       "  background-color: #4257c9;\n",
       "  color: #f1f1f1;\n",
       "}\n",
       "#T_62a14_row6_col3 {\n",
       "  background-color: #f5c1a9;\n",
       "  color: #000000;\n",
       "}\n",
       "#T_62a14_row6_col4 {\n",
       "  background-color: #bbd1f8;\n",
       "  color: #000000;\n",
       "}\n",
       "#T_62a14_row6_col5 {\n",
       "  background-color: #f5c4ac;\n",
       "  color: #000000;\n",
       "}\n",
       "</style>\n",
       "<table id=\"T_62a14_\">\n",
       "  <thead>\n",
       "    <tr>\n",
       "      <th class=\"blank level0\" >&nbsp;</th>\n",
       "      <th class=\"col_heading level0 col0\" >year</th>\n",
       "      <th class=\"col_heading level0 col1\" >duration</th>\n",
       "      <th class=\"col_heading level0 col2\" >avg_vote</th>\n",
       "      <th class=\"col_heading level0 col3\" >votes</th>\n",
       "      <th class=\"col_heading level0 col4\" >metascore</th>\n",
       "      <th class=\"col_heading level0 col5\" >reviews_from_users</th>\n",
       "      <th class=\"col_heading level0 col6\" >reviews_from_critics</th>\n",
       "    </tr>\n",
       "  </thead>\n",
       "  <tbody>\n",
       "    <tr>\n",
       "      <th id=\"T_62a14_level0_row0\" class=\"row_heading level0 row0\" >year</th>\n",
       "      <td id=\"T_62a14_row0_col0\" class=\"data row0 col0\" >1.000000</td>\n",
       "      <td id=\"T_62a14_row0_col1\" class=\"data row0 col1\" >0.172810</td>\n",
       "      <td id=\"T_62a14_row0_col2\" class=\"data row0 col2\" >-0.217559</td>\n",
       "      <td id=\"T_62a14_row0_col3\" class=\"data row0 col3\" >0.058559</td>\n",
       "      <td id=\"T_62a14_row0_col4\" class=\"data row0 col4\" >0.044861</td>\n",
       "      <td id=\"T_62a14_row0_col5\" class=\"data row0 col5\" >0.068464</td>\n",
       "      <td id=\"T_62a14_row0_col6\" class=\"data row0 col6\" >0.130698</td>\n",
       "    </tr>\n",
       "    <tr>\n",
       "      <th id=\"T_62a14_level0_row1\" class=\"row_heading level0 row1\" >duration</th>\n",
       "      <td id=\"T_62a14_row1_col0\" class=\"data row1 col0\" >0.172810</td>\n",
       "      <td id=\"T_62a14_row1_col1\" class=\"data row1 col1\" >1.000000</td>\n",
       "      <td id=\"T_62a14_row1_col2\" class=\"data row1 col2\" >0.242432</td>\n",
       "      <td id=\"T_62a14_row1_col3\" class=\"data row1 col3\" >0.125618</td>\n",
       "      <td id=\"T_62a14_row1_col4\" class=\"data row1 col4\" >0.107259</td>\n",
       "      <td id=\"T_62a14_row1_col5\" class=\"data row1 col5\" >0.124128</td>\n",
       "      <td id=\"T_62a14_row1_col6\" class=\"data row1 col6\" >0.128474</td>\n",
       "    </tr>\n",
       "    <tr>\n",
       "      <th id=\"T_62a14_level0_row2\" class=\"row_heading level0 row2\" >avg_vote</th>\n",
       "      <td id=\"T_62a14_row2_col0\" class=\"data row2 col0\" >-0.217559</td>\n",
       "      <td id=\"T_62a14_row2_col1\" class=\"data row2 col1\" >0.242432</td>\n",
       "      <td id=\"T_62a14_row2_col2\" class=\"data row2 col2\" >1.000000</td>\n",
       "      <td id=\"T_62a14_row2_col3\" class=\"data row2 col3\" >0.166972</td>\n",
       "      <td id=\"T_62a14_row2_col4\" class=\"data row2 col4\" >0.259751</td>\n",
       "      <td id=\"T_62a14_row2_col5\" class=\"data row2 col5\" >0.132007</td>\n",
       "      <td id=\"T_62a14_row2_col6\" class=\"data row2 col6\" >0.181777</td>\n",
       "    </tr>\n",
       "    <tr>\n",
       "      <th id=\"T_62a14_level0_row3\" class=\"row_heading level0 row3\" >votes</th>\n",
       "      <td id=\"T_62a14_row3_col0\" class=\"data row3 col0\" >0.058559</td>\n",
       "      <td id=\"T_62a14_row3_col1\" class=\"data row3 col1\" >0.125618</td>\n",
       "      <td id=\"T_62a14_row3_col2\" class=\"data row3 col2\" >0.166972</td>\n",
       "      <td id=\"T_62a14_row3_col3\" class=\"data row3 col3\" >1.000000</td>\n",
       "      <td id=\"T_62a14_row3_col4\" class=\"data row3 col4\" >0.321350</td>\n",
       "      <td id=\"T_62a14_row3_col5\" class=\"data row3 col5\" >0.765040</td>\n",
       "      <td id=\"T_62a14_row3_col6\" class=\"data row3 col6\" >0.657516</td>\n",
       "    </tr>\n",
       "    <tr>\n",
       "      <th id=\"T_62a14_level0_row4\" class=\"row_heading level0 row4\" >metascore</th>\n",
       "      <td id=\"T_62a14_row4_col0\" class=\"data row4 col0\" >0.044861</td>\n",
       "      <td id=\"T_62a14_row4_col1\" class=\"data row4 col1\" >0.107259</td>\n",
       "      <td id=\"T_62a14_row4_col2\" class=\"data row4 col2\" >0.259751</td>\n",
       "      <td id=\"T_62a14_row4_col3\" class=\"data row4 col3\" >0.321350</td>\n",
       "      <td id=\"T_62a14_row4_col4\" class=\"data row4 col4\" >1.000000</td>\n",
       "      <td id=\"T_62a14_row4_col5\" class=\"data row4 col5\" >0.265173</td>\n",
       "      <td id=\"T_62a14_row4_col6\" class=\"data row4 col6\" >0.412702</td>\n",
       "    </tr>\n",
       "    <tr>\n",
       "      <th id=\"T_62a14_level0_row5\" class=\"row_heading level0 row5\" >reviews_from_users</th>\n",
       "      <td id=\"T_62a14_row5_col0\" class=\"data row5 col0\" >0.068464</td>\n",
       "      <td id=\"T_62a14_row5_col1\" class=\"data row5 col1\" >0.124128</td>\n",
       "      <td id=\"T_62a14_row5_col2\" class=\"data row5 col2\" >0.132007</td>\n",
       "      <td id=\"T_62a14_row5_col3\" class=\"data row5 col3\" >0.765040</td>\n",
       "      <td id=\"T_62a14_row5_col4\" class=\"data row5 col4\" >0.265173</td>\n",
       "      <td id=\"T_62a14_row5_col5\" class=\"data row5 col5\" >1.000000</td>\n",
       "      <td id=\"T_62a14_row5_col6\" class=\"data row5 col6\" >0.654171</td>\n",
       "    </tr>\n",
       "    <tr>\n",
       "      <th id=\"T_62a14_level0_row6\" class=\"row_heading level0 row6\" >reviews_from_critics</th>\n",
       "      <td id=\"T_62a14_row6_col0\" class=\"data row6 col0\" >0.130698</td>\n",
       "      <td id=\"T_62a14_row6_col1\" class=\"data row6 col1\" >0.128474</td>\n",
       "      <td id=\"T_62a14_row6_col2\" class=\"data row6 col2\" >0.181777</td>\n",
       "      <td id=\"T_62a14_row6_col3\" class=\"data row6 col3\" >0.657516</td>\n",
       "      <td id=\"T_62a14_row6_col4\" class=\"data row6 col4\" >0.412702</td>\n",
       "      <td id=\"T_62a14_row6_col5\" class=\"data row6 col5\" >0.654171</td>\n",
       "      <td id=\"T_62a14_row6_col6\" class=\"data row6 col6\" >1.000000</td>\n",
       "    </tr>\n",
       "  </tbody>\n",
       "</table>\n"
      ],
      "text/plain": [
       "<pandas.io.formats.style.Styler at 0x7f84fd6322b0>"
      ]
     },
     "execution_count": 33,
     "metadata": {},
     "output_type": "execute_result"
    }
   ],
   "source": [
    "df_mov_nam.corr().style.background_gradient(cmap='coolwarm')\n",
    "# Income/Currency columns are in string format\n",
    "# As planned we do have mildly strong correlations among reviews and votes"
   ]
  },
  {
   "cell_type": "code",
   "execution_count": 34,
   "id": "d84f6956",
   "metadata": {},
   "outputs": [
    {
     "data": {
      "text/plain": [
       "100.0"
      ]
     },
     "execution_count": 34,
     "metadata": {},
     "output_type": "execute_result"
    }
   ],
   "source": [
    "# Professional Critic vote\n",
    "df_mov_nam.metascore.max()"
   ]
  },
  {
   "cell_type": "code",
   "execution_count": 35,
   "id": "18d60092",
   "metadata": {
    "scrolled": true
   },
   "outputs": [
    {
     "data": {
      "text/plain": [
       "1.0"
      ]
     },
     "execution_count": 35,
     "metadata": {},
     "output_type": "execute_result"
    }
   ],
   "source": [
    "df_mov_nam.metascore.min()"
   ]
  },
  {
   "cell_type": "code",
   "execution_count": 36,
   "id": "7bf92441",
   "metadata": {},
   "outputs": [
    {
     "data": {
      "text/plain": [
       "10472.0"
      ]
     },
     "execution_count": 36,
     "metadata": {},
     "output_type": "execute_result"
    }
   ],
   "source": [
    "# Amount of reviews from users\n",
    "df_mov_nam.reviews_from_users.max()"
   ]
  },
  {
   "cell_type": "code",
   "execution_count": 37,
   "id": "63cb513b",
   "metadata": {},
   "outputs": [
    {
     "data": {
      "text/plain": [
       "1.0"
      ]
     },
     "execution_count": 37,
     "metadata": {},
     "output_type": "execute_result"
    }
   ],
   "source": [
    "df_mov_nam.reviews_from_users.min()"
   ]
  },
  {
   "cell_type": "code",
   "execution_count": 38,
   "id": "4b0210b4",
   "metadata": {},
   "outputs": [
    {
     "data": {
      "text/plain": [
       "999.0"
      ]
     },
     "execution_count": 38,
     "metadata": {},
     "output_type": "execute_result"
    }
   ],
   "source": [
    "# Amount of reviews from critics\n",
    "df_mov_nam.reviews_from_critics.max()"
   ]
  },
  {
   "cell_type": "code",
   "execution_count": 39,
   "id": "a097f5ee",
   "metadata": {},
   "outputs": [
    {
     "data": {
      "text/plain": [
       "1.0"
      ]
     },
     "execution_count": 39,
     "metadata": {},
     "output_type": "execute_result"
    }
   ],
   "source": [
    "df_mov_nam.reviews_from_critics.min()"
   ]
  },
  {
   "cell_type": "code",
   "execution_count": 40,
   "id": "1962333c",
   "metadata": {},
   "outputs": [],
   "source": [
    "#df_mov_nam.to_csv(\"../data/imdb_1st_clean\")"
   ]
  }
 ],
 "metadata": {
  "kernelspec": {
   "display_name": "ironhack",
   "language": "python",
   "name": "ironhack"
  },
  "language_info": {
   "codemirror_mode": {
    "name": "ipython",
    "version": 3
   },
   "file_extension": ".py",
   "mimetype": "text/x-python",
   "name": "python",
   "nbconvert_exporter": "python",
   "pygments_lexer": "ipython3",
   "version": "3.8.8"
  }
 },
 "nbformat": 4,
 "nbformat_minor": 5
}
