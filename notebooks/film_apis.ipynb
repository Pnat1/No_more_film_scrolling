{
 "cells": [
  {
   "cell_type": "code",
   "execution_count": 3,
   "id": "ff541f8d",
   "metadata": {},
   "outputs": [],
   "source": [
    "import requests"
   ]
  },
  {
   "cell_type": "code",
   "execution_count": 4,
   "id": "47376f57",
   "metadata": {},
   "outputs": [],
   "source": [
    "url = \"https://imdb8.p.rapidapi.com/title/get-synopses\""
   ]
  },
  {
   "cell_type": "code",
   "execution_count": 5,
   "id": "66035b71",
   "metadata": {},
   "outputs": [
    {
     "name": "stdout",
     "output_type": "stream",
     "text": [
      "[{\"hasProfanity\":true,\"id\":\"/title/tt0944947/plotsynopsis/py3232254\",\"language\":\"eng\",\"text\":\"Three men set out on horseback on a snowy landscape from the Wall. \\n\\nThe young one sees smoke from a fire and creeps up on it. He sees bodies hacked to bits and heads on stakes, dismembered limbs all around, including women and children. \\n\\nHe turns and runs. We see their bodies are laid out in a kind of symbol, like a ring. \\n\\nHe is chastised by his leader for being a coward, and reminded of their mission and the punishment for desertion.\\n\\nHis comrades go to check out the bodies, and find theyve disappeared. \\n\\nOne man finds what could be an organ in the snow, hes about to show it to the other man when something dark and sinister pops up out of snow and slashes him down. The remaining men run. Theyre chased by something that doesnt seem human. \\n\\nThe creature catches one of the men and slices off his head. The remaining man drops to his knees and awaits his fate.\\n\\nLater, he stumbles across a field. Not dead. A band of men on horses intercept him.\\n\\nIn Winterfell, Ned Stark (Sean Bean) watches his son Bran practice archery with the aid of Jon Snow, Neds bastard son. \\n\\nInside the castle, his young daughter Arya practices needlepoint. Bran lets fly his arrow and misses wildly.\\n\\nSuddenly another strikes the bullseye. They turn to see who let it go its Arya, showing up her brother. \\n\\nA man comes to report they captured a deserter from the Nights Watch. Neds wife Catelyn asks him if he has to do what must be done. Ned says yes, and 10 year old Bran is coming to watch.\\n\\nThey march the deserter to be beheaded. He tells Ned he saw White Walkers.\\n\\nBran watches as his father beheads the man. Jon commends Bran for not looking away.\\n\\nAfter, Ned tells Bran that the White Walkers have been gone for thousands of years and the deserter must be crazy. He had to cut the man's head off himself because he passed the sentence, Ned explains.\\n\\nOn the ride home they come upon a disemboweled elk and wonder what could have done it. \\n\\nThey find a similarly hacked up wolf nearby, with two young pups. They believe theyre rare kind of wolf, a direwolf, of which there are only five south of the wall. Ned commands them killed because they wont survive without their mother. \\n\\nJon suggests instead that the five pups go to the five Stark children. Jon gets the runt of the litter.\\n\\nKings Landing, Capital of the Seven Kingdoms A funeral takes place in the grand cathedral.\\n\\nSer Jaime Lannister checks on his twin sister, Queen Cersei Baratheon of the House of Lannister. Shes worried the dead guy Jon Arryn might have spilled her secret to her husband, the king.\\n\\nBack in Winterfell Cat tells her husband the news of Jon Arryns death. He was like a father to Ned. King Robert of Baratheon and Queen Cersei are on the way to Winterfell with their entourage.\\n\\nBran climbs to the top of the compound to see the hundreds approaching. His mom chides him not to climb.\\n\\nThe king and queen arrive. The Starks line up to greet them. \\n\\nPrince Joffrey Baratheon of the House of Baratheon makes eyes at Sansa Stark, Neds young daughter. They greet each other warmly. \\n\\nArya is eager to see the imp.\\n\\nKing Robert asks Ned to take him to the crypt. Down there, Robert says Arryn got sick suddenly and died. \\n\\nRobert asks Ned to come to Kings Landing and serve as Hand of the King, to run his kingdom. He wants Ned to help him keep the iron throne. He suggests they join their houses by marrying his son Joffrey and Neds daughter Sansa. \\n\\nWe meet the imp, Tyrion Lannister, a dwarf. He is on the receiving end of a young womans attention.\\n\\nHis brother Jaime busts in to tell them the Starks are feasting them at sundown. He brings additional whores to help Tyrion work out his desires before then.\\n\\nRobert pays his respects to Neds dead sister, who he was going to marry before the Targaryens killed her. He still feels strongly for her.\\n\\nPentos Across the Narrow Sea\\n\\nPrincess Daenerys Targaryen gets ready for her wedding. Prince Viserys comes to check on his sister, complete with examining her naked. The marriage is meant to solidify Viserys reign and not wake the dragon.\\n\\nLater, she meets her intended king, a savage killer who has never been defeated in battle. He says nothing, and rides off. \\n\\nViserys advisor assures him Khal Drogo approved of her. \\n\\nLater, Viserys is talking about returning to rule. Daenerys announces she doesnt want to be Khal Drogo's queen. Viserys explains they need Drogo's army to retake their kingdom, and he would let all 40,000 of Drogo's men and horses have their way with her if it meant a return to power.\\n\\nIn Winterfell, Sansa begs her mother to convince her dad to let her marry so she can be queen.\\n\\nNeds brother Benjen Stark arrives from the Nights Watch. Jon asks to return to the wall with him, but Benjen says hes not ready.\\n\\nAfter Benjen leaves, Jon meets Tyrion, who encourages him to wear the fact hes a bastard like honor, and then it cant be used to hurt him. He empathizes, saying all dwarves are bastards in their fathers eyes.\\n\\nBenjen finds his brother Ned, who tells him the boy he beheaded was a true ranger. He seems surprised he deserted.\\n\\nCersei watches distractedly as her husband gropes wenches at the feast. Sansa introduces herself. Shes only 13.\\n\\nJaime accosts Ned, taunting him to fight when hes back in town. Arya gets removed from the party for flicking food.\\n\\nLater at night, Ned tells his wife he doesnt want to go to the city. Cat doesnt want him to go either. Theres a knock at their bedroom door.\\n\\nIts Maester Luwin, Neds counselor. A rider brought a letter from Cats sister. It was sent from the aerie. Cat reads it and her eyes get wide. She burns the letter.\\n\\nHer sister has fled the city. She said her husband Jon Arryn was murdered by the Lannisters, and theyre plotting against the king. \\n\\nLuwin tells Ned hes the only one who can protect the king.\\n\\nAt the wedding feast for Daenrys and Drogo, Viserys is eager to get his throne back. Daenrys watches two men try to have sex with a woman in the middle of a dance and end up cutting each other to bits. We learn that a Dothraki wedding without at least three deaths is considered a dull affair.\\n\\nJorah Mormant, an exiled knight, brings song books to Daenrys. She also gets a gift of dragons eggs. Khal gets up and goes to his horse. Daenrys follows, he gives her a white horse. As shes riding off, her brother tells her to make Drogo happy.\\n\\nLater, alone on the beach at sunset, she waits nervously as her new husband looks her over. She cries. He says only no as he slowly takes off her clothes and pushes her to the ground.\\n\\nBack in Winterfell, Ned prepares to ride with the King. As they set off, Bran climbs to the top of the compound walls again to watch his father ride away. \\n\\nHalfway up the wall he hears the sounds of people having sex. He sees Jaime with a woman bent over in front of him. Its his sister Cersei. She seems to be a willing participant.\\n\\nShe shouts that Bran saw them.\\n\\nJaime pulls Bran off the ledge. He assess how high up they are, then he gives Bran a shove. The things I do for love, he says.\"}]\n"
     ]
    }
   ],
   "source": [
    "\n",
    "\n",
    "query_string = {\"tconst\":\"tt0944947\"}\n",
    "\n",
    "headers = {\n",
    "    'x-rapidapi-host': \"\",\n",
    "    'x-rapidapi-key': \"\"\n",
    "    }\n",
    "\n",
    "response = requests.request(\"GET\", url, headers=headers, params=querystring)\n",
    "\n",
    "print(response.text)"
   ]
  },
  {
   "cell_type": "code",
   "execution_count": null,
   "id": "89d71c2f",
   "metadata": {},
   "outputs": [],
   "source": []
  }
 ],
 "metadata": {
  "kernelspec": {
   "display_name": "ironhack",
   "language": "python",
   "name": "ironhack"
  },
  "language_info": {
   "codemirror_mode": {
    "name": "ipython",
    "version": 3
   },
   "file_extension": ".py",
   "mimetype": "text/x-python",
   "name": "python",
   "nbconvert_exporter": "python",
   "pygments_lexer": "ipython3",
   "version": "3.8.8"
  }
 },
 "nbformat": 4,
 "nbformat_minor": 5
}
