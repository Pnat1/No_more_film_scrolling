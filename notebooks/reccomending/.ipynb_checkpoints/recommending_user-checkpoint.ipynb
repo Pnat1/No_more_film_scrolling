{
 "cells": [
  {
   "cell_type": "code",
   "execution_count": 1,
   "id": "b61e9cb2",
   "metadata": {},
   "outputs": [],
   "source": [
    "import pandas as pd\n",
    "import numpy as np\n",
    "import matplotlib.pyplot as plt"
   ]
  },
  {
   "cell_type": "code",
   "execution_count": 6,
   "id": "62b4064c",
   "metadata": {},
   "outputs": [],
   "source": [
    "dfrat = pd.read_csv('../../data/IMDb_ratings.csv')"
   ]
  },
  {
   "cell_type": "markdown",
   "id": "11abca82",
   "metadata": {},
   "source": [
    "This is an example of collaborative filtering through user. Meaning it will use other users information to recommend articles to the user in place. It tries finding users with similar preferences and opinions. The used method here is the Pearson corelation."
   ]
  },
  {
   "cell_type": "code",
   "execution_count": null,
   "id": "eac6c966",
   "metadata": {},
   "outputs": [],
   "source": [
    "# User creation, I am giving user information of his personal ration over movies\n",
    "\n",
    "userInput = [\n",
    "{'title':'Heat', 'rating':8},\n",
    "{'title':'Star Wars: Episode II - Attack of the Clones', 'rating':4.5},\n",
    "{'title':'Secret in Their Eyes, The (El secreto de sus ojos)', 'rating':4.5},\n",
    "{'title':'Terminator 2: Judgment Day', 'rating':4.5},\n",
    "{'title':'Four Rooms', 'rating':3.5}    \n",
    "]\n",
    "inputMovies = pd.DataFrame(userInput)"
   ]
  }
 ],
 "metadata": {
  "kernelspec": {
   "display_name": "ironhack",
   "language": "python",
   "name": "ironhack"
  },
  "language_info": {
   "codemirror_mode": {
    "name": "ipython",
    "version": 3
   },
   "file_extension": ".py",
   "mimetype": "text/x-python",
   "name": "python",
   "nbconvert_exporter": "python",
   "pygments_lexer": "ipython3",
   "version": "3.8.8"
  }
 },
 "nbformat": 4,
 "nbformat_minor": 5
}
