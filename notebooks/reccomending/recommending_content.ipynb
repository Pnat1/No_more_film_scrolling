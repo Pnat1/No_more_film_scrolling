{
 "cells": [
  {
   "cell_type": "code",
   "execution_count": 2,
   "id": "bb7519fb",
   "metadata": {},
   "outputs": [],
   "source": [
    "import pandas as pd\n",
    "import numpy as np\n",
    "import matplotlib.pyplot as plt\n",
    "from sklearn.feature_extraction.text import TfidfVectorizer\n",
    "from sklearn.metrics.pairwise import linear_kernel"
   ]
  },
  {
   "cell_type": "markdown",
   "id": "e40de0b0",
   "metadata": {},
   "source": [
    "Essentially 2 types of recommending systems, first, one based on content filtering, second, collaborative filtering. The project aims to achieve both if possible. \n",
    "\n",
    "1) In content filtering, the similarities between difffernt prodects are calculated over the base of the attributes of the products. For example, in a film recomending system based on content, the similarity is calculated based on genre, film actors, film directors, etc. \n",
    "\n",
    "2) Collaborative filtering, takes advantage of the power of volume. The backbone intuition is that if user A likes product Y and X, and user B likes product X, there are many possibilities that he will like Y too. Same example... lets supose we have a large number of users, that have assigned the same ratings to films X and Y. New user arrives and assigns same rating to Y, but still he has not seen X. The collaborative filtering system will recommend X to that user. It has two approaches; one based on the user and another based on the article/product. The collaborative filtering based on the article bases on the similarity between aricles. The one based on user is on the similarity of users. "
   ]
  },
  {
   "cell_type": "markdown",
   "id": "54e10298",
   "metadata": {},
   "source": [
    "To make a recommendation system based on votes follow the link sent by Ras"
   ]
  },
  {
   "cell_type": "markdown",
   "id": "07216b80",
   "metadata": {},
   "source": [
    "Basados en la memoria: Se utilizan técnicas estadísticas para aproximar usuarios a los artículos. Correlación Pearson, Lasimilitud de Coseno, La Distancia Euclidiana. En los enfoques con modelos, es necesario crear usuarios con técnicas de machine learning como la regresión, agrupación o clasificación."
   ]
  },
  {
   "cell_type": "code",
   "execution_count": 3,
   "id": "6b316f05",
   "metadata": {},
   "outputs": [],
   "source": [
    "dfmov = pd.read_csv('../../data/imdb_movies_clean_1st.csv')"
   ]
  },
  {
   "cell_type": "code",
   "execution_count": 4,
   "id": "be8ac7f3",
   "metadata": {},
   "outputs": [
    {
     "data": {
      "text/plain": [
       "Unnamed: 0            0\n",
       "imdb_title_id         0\n",
       "original_title        0\n",
       "year                  0\n",
       "genre                 0\n",
       "duration              0\n",
       "country               0\n",
       "language              0\n",
       "director              0\n",
       "writer                0\n",
       "production_company    0\n",
       "actors                0\n",
       "description           0\n",
       "duration_sets         0\n",
       "dtype: int64"
      ]
     },
     "execution_count": 4,
     "metadata": {},
     "output_type": "execute_result"
    }
   ],
   "source": [
    "dfmov.isnull().sum()"
   ]
  },
  {
   "cell_type": "markdown",
   "id": "cbb6e2bc",
   "metadata": {},
   "source": [
    "This is an example of a content filtering recommending system specifically looking at the films names and description."
   ]
  },
  {
   "cell_type": "code",
   "execution_count": 5,
   "id": "51a296a5",
   "metadata": {},
   "outputs": [],
   "source": [
    "rec_cont = dfmov[['original_title','description']]"
   ]
  },
  {
   "cell_type": "code",
   "execution_count": 6,
   "id": "a9276f44",
   "metadata": {},
   "outputs": [],
   "source": [
    "rec_cont = rec_cont[rec_cont[['original_title','description']] != 0]"
   ]
  },
  {
   "cell_type": "code",
   "execution_count": 7,
   "id": "e5c91858",
   "metadata": {},
   "outputs": [
    {
     "name": "stdout",
     "output_type": "stream",
     "text": [
      "       original_title  description\n",
      "0                True         True\n",
      "1                True         True\n",
      "2                True         True\n",
      "3                True         True\n",
      "4                True         True\n",
      "...               ...          ...\n",
      "85850            True         True\n",
      "85851            True         True\n",
      "85852            True         True\n",
      "85853            True         True\n",
      "85854            True         True\n",
      "\n",
      "[85855 rows x 2 columns]\n"
     ]
    }
   ],
   "source": [
    "print(rec_cont[['original_title','description']] != 0)"
   ]
  },
  {
   "cell_type": "code",
   "execution_count": 8,
   "id": "b0d0c439",
   "metadata": {},
   "outputs": [
    {
     "data": {
      "text/html": [
       "<div>\n",
       "<style scoped>\n",
       "    .dataframe tbody tr th:only-of-type {\n",
       "        vertical-align: middle;\n",
       "    }\n",
       "\n",
       "    .dataframe tbody tr th {\n",
       "        vertical-align: top;\n",
       "    }\n",
       "\n",
       "    .dataframe thead th {\n",
       "        text-align: right;\n",
       "    }\n",
       "</style>\n",
       "<table border=\"1\" class=\"dataframe\">\n",
       "  <thead>\n",
       "    <tr style=\"text-align: right;\">\n",
       "      <th></th>\n",
       "      <th>original_title</th>\n",
       "      <th>description</th>\n",
       "    </tr>\n",
       "  </thead>\n",
       "  <tbody>\n",
       "    <tr>\n",
       "      <th>0</th>\n",
       "      <td>Miss Jerry</td>\n",
       "      <td>The adventures of a female reporter in the 1890s.</td>\n",
       "    </tr>\n",
       "    <tr>\n",
       "      <th>1</th>\n",
       "      <td>The Story of the Kelly Gang</td>\n",
       "      <td>True story of notorious Australian outlaw Ned ...</td>\n",
       "    </tr>\n",
       "    <tr>\n",
       "      <th>2</th>\n",
       "      <td>Den sorte drøm</td>\n",
       "      <td>Two men of high rank are both wooing the beaut...</td>\n",
       "    </tr>\n",
       "    <tr>\n",
       "      <th>3</th>\n",
       "      <td>Cleopatra</td>\n",
       "      <td>The fabled queen of Egypt's affair with Roman ...</td>\n",
       "    </tr>\n",
       "    <tr>\n",
       "      <th>4</th>\n",
       "      <td>L'Inferno</td>\n",
       "      <td>Loosely adapted from Dante's Divine Comedy and...</td>\n",
       "    </tr>\n",
       "    <tr>\n",
       "      <th>...</th>\n",
       "      <td>...</td>\n",
       "      <td>...</td>\n",
       "    </tr>\n",
       "    <tr>\n",
       "      <th>85850</th>\n",
       "      <td>Le lion</td>\n",
       "      <td>A psychiatric hospital patient pretends to be ...</td>\n",
       "    </tr>\n",
       "    <tr>\n",
       "      <th>85851</th>\n",
       "      <td>De Beentjes van Sint-Hildegard</td>\n",
       "      <td>A middle-aged veterinary surgeon believes his ...</td>\n",
       "    </tr>\n",
       "    <tr>\n",
       "      <th>85852</th>\n",
       "      <td>Padmavyuhathile Abhimanyu</td>\n",
       "      <td>0</td>\n",
       "    </tr>\n",
       "    <tr>\n",
       "      <th>85853</th>\n",
       "      <td>Sokagin Çocuklari</td>\n",
       "      <td>0</td>\n",
       "    </tr>\n",
       "    <tr>\n",
       "      <th>85854</th>\n",
       "      <td>La vida sense la Sara Amat</td>\n",
       "      <td>Pep, a 13-year-old boy, is in love with a girl...</td>\n",
       "    </tr>\n",
       "  </tbody>\n",
       "</table>\n",
       "<p>85855 rows × 2 columns</p>\n",
       "</div>"
      ],
      "text/plain": [
       "                       original_title  \\\n",
       "0                          Miss Jerry   \n",
       "1         The Story of the Kelly Gang   \n",
       "2                      Den sorte drøm   \n",
       "3                           Cleopatra   \n",
       "4                           L'Inferno   \n",
       "...                               ...   \n",
       "85850                         Le lion   \n",
       "85851  De Beentjes van Sint-Hildegard   \n",
       "85852       Padmavyuhathile Abhimanyu   \n",
       "85853               Sokagin Çocuklari   \n",
       "85854      La vida sense la Sara Amat   \n",
       "\n",
       "                                             description  \n",
       "0      The adventures of a female reporter in the 1890s.  \n",
       "1      True story of notorious Australian outlaw Ned ...  \n",
       "2      Two men of high rank are both wooing the beaut...  \n",
       "3      The fabled queen of Egypt's affair with Roman ...  \n",
       "4      Loosely adapted from Dante's Divine Comedy and...  \n",
       "...                                                  ...  \n",
       "85850  A psychiatric hospital patient pretends to be ...  \n",
       "85851  A middle-aged veterinary surgeon believes his ...  \n",
       "85852                                                  0  \n",
       "85853                                                  0  \n",
       "85854  Pep, a 13-year-old boy, is in love with a girl...  \n",
       "\n",
       "[85855 rows x 2 columns]"
      ]
     },
     "execution_count": 8,
     "metadata": {},
     "output_type": "execute_result"
    }
   ],
   "source": [
    "rec_cont"
   ]
  },
  {
   "cell_type": "markdown",
   "id": "7ff72cbd",
   "metadata": {},
   "source": [
    "## Content(Title)-Based Recommender"
   ]
  },
  {
   "cell_type": "code",
   "execution_count": 9,
   "id": "96698973",
   "metadata": {},
   "outputs": [],
   "source": [
    "take_out = (rec_cont != 0).any(axis=1)"
   ]
  },
  {
   "cell_type": "code",
   "execution_count": 10,
   "id": "d56faa59",
   "metadata": {},
   "outputs": [],
   "source": [
    "rec_contn = rec_cont.loc[take_out]"
   ]
  },
  {
   "cell_type": "code",
   "execution_count": 11,
   "id": "b1d30d40",
   "metadata": {},
   "outputs": [
    {
     "data": {
      "text/html": [
       "<div>\n",
       "<style scoped>\n",
       "    .dataframe tbody tr th:only-of-type {\n",
       "        vertical-align: middle;\n",
       "    }\n",
       "\n",
       "    .dataframe tbody tr th {\n",
       "        vertical-align: top;\n",
       "    }\n",
       "\n",
       "    .dataframe thead th {\n",
       "        text-align: right;\n",
       "    }\n",
       "</style>\n",
       "<table border=\"1\" class=\"dataframe\">\n",
       "  <thead>\n",
       "    <tr style=\"text-align: right;\">\n",
       "      <th></th>\n",
       "      <th>original_title</th>\n",
       "      <th>description</th>\n",
       "    </tr>\n",
       "  </thead>\n",
       "  <tbody>\n",
       "    <tr>\n",
       "      <th>0</th>\n",
       "      <td>Miss Jerry</td>\n",
       "      <td>The adventures of a female reporter in the 1890s.</td>\n",
       "    </tr>\n",
       "    <tr>\n",
       "      <th>1</th>\n",
       "      <td>The Story of the Kelly Gang</td>\n",
       "      <td>True story of notorious Australian outlaw Ned ...</td>\n",
       "    </tr>\n",
       "    <tr>\n",
       "      <th>2</th>\n",
       "      <td>Den sorte drøm</td>\n",
       "      <td>Two men of high rank are both wooing the beaut...</td>\n",
       "    </tr>\n",
       "    <tr>\n",
       "      <th>3</th>\n",
       "      <td>Cleopatra</td>\n",
       "      <td>The fabled queen of Egypt's affair with Roman ...</td>\n",
       "    </tr>\n",
       "    <tr>\n",
       "      <th>4</th>\n",
       "      <td>L'Inferno</td>\n",
       "      <td>Loosely adapted from Dante's Divine Comedy and...</td>\n",
       "    </tr>\n",
       "    <tr>\n",
       "      <th>...</th>\n",
       "      <td>...</td>\n",
       "      <td>...</td>\n",
       "    </tr>\n",
       "    <tr>\n",
       "      <th>85850</th>\n",
       "      <td>Le lion</td>\n",
       "      <td>A psychiatric hospital patient pretends to be ...</td>\n",
       "    </tr>\n",
       "    <tr>\n",
       "      <th>85851</th>\n",
       "      <td>De Beentjes van Sint-Hildegard</td>\n",
       "      <td>A middle-aged veterinary surgeon believes his ...</td>\n",
       "    </tr>\n",
       "    <tr>\n",
       "      <th>85852</th>\n",
       "      <td>Padmavyuhathile Abhimanyu</td>\n",
       "      <td>0</td>\n",
       "    </tr>\n",
       "    <tr>\n",
       "      <th>85853</th>\n",
       "      <td>Sokagin Çocuklari</td>\n",
       "      <td>0</td>\n",
       "    </tr>\n",
       "    <tr>\n",
       "      <th>85854</th>\n",
       "      <td>La vida sense la Sara Amat</td>\n",
       "      <td>Pep, a 13-year-old boy, is in love with a girl...</td>\n",
       "    </tr>\n",
       "  </tbody>\n",
       "</table>\n",
       "<p>85855 rows × 2 columns</p>\n",
       "</div>"
      ],
      "text/plain": [
       "                       original_title  \\\n",
       "0                          Miss Jerry   \n",
       "1         The Story of the Kelly Gang   \n",
       "2                      Den sorte drøm   \n",
       "3                           Cleopatra   \n",
       "4                           L'Inferno   \n",
       "...                               ...   \n",
       "85850                         Le lion   \n",
       "85851  De Beentjes van Sint-Hildegard   \n",
       "85852       Padmavyuhathile Abhimanyu   \n",
       "85853               Sokagin Çocuklari   \n",
       "85854      La vida sense la Sara Amat   \n",
       "\n",
       "                                             description  \n",
       "0      The adventures of a female reporter in the 1890s.  \n",
       "1      True story of notorious Australian outlaw Ned ...  \n",
       "2      Two men of high rank are both wooing the beaut...  \n",
       "3      The fabled queen of Egypt's affair with Roman ...  \n",
       "4      Loosely adapted from Dante's Divine Comedy and...  \n",
       "...                                                  ...  \n",
       "85850  A psychiatric hospital patient pretends to be ...  \n",
       "85851  A middle-aged veterinary surgeon believes his ...  \n",
       "85852                                                  0  \n",
       "85853                                                  0  \n",
       "85854  Pep, a 13-year-old boy, is in love with a girl...  \n",
       "\n",
       "[85855 rows x 2 columns]"
      ]
     },
     "execution_count": 11,
     "metadata": {},
     "output_type": "execute_result"
    }
   ],
   "source": [
    "rec_cont"
   ]
  },
  {
   "cell_type": "code",
   "execution_count": 14,
   "id": "2c465a72",
   "metadata": {},
   "outputs": [],
   "source": [
    "tf = TfidfVectorizer(analyzer='word', ngram_range=(1, 3), min_df=0, stop_words='english')"
   ]
  },
  {
   "cell_type": "code",
   "execution_count": 15,
   "id": "39431bc8",
   "metadata": {},
   "outputs": [],
   "source": [
    "matrix = tf.fit_transform(rec_cont['description'])"
   ]
  },
  {
   "cell_type": "code",
   "execution_count": 16,
   "id": "c1b9bd6c",
   "metadata": {},
   "outputs": [
    {
     "data": {
      "text/plain": [
       "(85855, 1920179)"
      ]
     },
     "execution_count": 16,
     "metadata": {},
     "output_type": "execute_result"
    }
   ],
   "source": [
    "matrix.shape\n",
    "# 1920179 different types of voabularies or words in the dataset of 85855 movies"
   ]
  },
  {
   "cell_type": "code",
   "execution_count": 17,
   "id": "2325bd18",
   "metadata": {},
   "outputs": [
    {
     "data": {
      "text/plain": [
       "['1930s 50s movie',\n",
       " '1930s american',\n",
       " '1930s american scandalous',\n",
       " '1930s american socialite',\n",
       " '1930s amoral',\n",
       " '1930s amoral blonde',\n",
       " '1930s amsterdam',\n",
       " '1930s arab',\n",
       " '1930s arab states',\n",
       " '1930s area']"
      ]
     },
     "execution_count": 17,
     "metadata": {},
     "output_type": "execute_result"
    }
   ],
   "source": [
    "tf.get_feature_names()[6000:6010]"
   ]
  },
  {
   "cell_type": "code",
   "execution_count": 18,
   "id": "68e92955",
   "metadata": {},
   "outputs": [],
   "source": [
    "cosine_similarities = linear_kernel(matrix,matrix)"
   ]
  },
  {
   "cell_type": "code",
   "execution_count": 19,
   "id": "65f7d04a",
   "metadata": {},
   "outputs": [
    {
     "data": {
      "text/plain": [
       "array([0., 1., 0., ..., 0., 0., 0.])"
      ]
     },
     "execution_count": 19,
     "metadata": {},
     "output_type": "execute_result"
    }
   ],
   "source": [
    "cosine_similarities[1]"
   ]
  },
  {
   "cell_type": "code",
   "execution_count": 20,
   "id": "20ed6953",
   "metadata": {},
   "outputs": [],
   "source": [
    "movie_title = rec_cont['original_title']"
   ]
  },
  {
   "cell_type": "code",
   "execution_count": 21,
   "id": "c92fac65",
   "metadata": {},
   "outputs": [],
   "source": [
    "indices = pd.Series(rec_cont.index, index=rec_cont['original_title']).drop_duplicates()"
   ]
  },
  {
   "cell_type": "code",
   "execution_count": 22,
   "id": "1455d43f",
   "metadata": {},
   "outputs": [
    {
     "data": {
      "text/plain": [
       "original_title\n",
       "Miss Jerry                                             0\n",
       "The Story of the Kelly Gang                            1\n",
       "Den sorte drøm                                         2\n",
       "Cleopatra                                              3\n",
       "L'Inferno                                              4\n",
       "From the Manger to the Cross; or, Jesus of Nazareth    5\n",
       "Madame DuBarry                                         6\n",
       "Quo Vadis?                                             7\n",
       "Independenta Romaniei                                  8\n",
       "Richard III                                            9\n",
       "dtype: int64"
      ]
     },
     "execution_count": 22,
     "metadata": {},
     "output_type": "execute_result"
    }
   ],
   "source": [
    "indices[:10]"
   ]
  },
  {
   "cell_type": "code",
   "execution_count": 23,
   "id": "baa535c7",
   "metadata": {},
   "outputs": [],
   "source": [
    "def movie_recommend(original_title, cosine_similarities=cosine_similarities):\n",
    "    \n",
    "    '''\n",
    "    Fuction computes recommendation given a movie title and description\n",
    "    '''\n",
    "\n",
    "    idx = indices[original_title]\n",
    "\n",
    "    sim_scores = list(enumerate(cosine_similarities[idx]))\n",
    "\n",
    "    sim_scores = sorted(sim_scores, key=lambda x: x[1], reverse=True)\n",
    "\n",
    "    sim_scores = sim_scores[1:31]\n",
    "\n",
    "    movie_indices = [i[0] for i in sim_scores]\n",
    "\n",
    "    return movie_title.iloc[movie_indices]"
   ]
  },
  {
   "cell_type": "code",
   "execution_count": 24,
   "id": "c799cc42",
   "metadata": {},
   "outputs": [
    {
     "data": {
      "text/plain": [
       "53975                                    Yangjamoolrihak\n",
       "45869                                  Romanzo criminale\n",
       "77259                                       Moving Parts\n",
       "61578                                         Blood Ties\n",
       "33539                                              Belly\n",
       "15497    I familiari delle vittime non saranno avvertiti\n",
       "43377                                       Sabita naifu\n",
       "41165                                            Bookies\n",
       "22349                                 Year of the Dragon\n",
       "4968                                         Crime, Inc.\n",
       "Name: original_title, dtype: object"
      ]
     },
     "execution_count": 24,
     "metadata": {},
     "output_type": "execute_result"
    }
   ],
   "source": [
    "movie_recommend('The Godfather').head(10)\n",
    "# 10  recommended movies through the film The Godfather using original title and description columns"
   ]
  },
  {
   "cell_type": "code",
   "execution_count": 25,
   "id": "193b9897",
   "metadata": {
    "scrolled": true
   },
   "outputs": [
    {
     "data": {
      "text/plain": [
       "43935                 Batman Begins\n",
       "58269               William Vincent\n",
       "82580                  Batman Ninja\n",
       "30399                Batman & Robin\n",
       "81987    Batman: Gotham by Gaslight\n",
       "24426                        Batman\n",
       "48078               The Dark Knight\n",
       "82239                         Joker\n",
       "26413                Batman Returns\n",
       "73755         The Lego Batman Movie\n",
       "Name: original_title, dtype: object"
      ]
     },
     "execution_count": 25,
     "metadata": {},
     "output_type": "execute_result"
    }
   ],
   "source": [
    "movie_recommend('The Dark Knight Rises').head(10)"
   ]
  },
  {
   "cell_type": "code",
   "execution_count": 26,
   "id": "778ba9a7",
   "metadata": {},
   "outputs": [
    {
     "data": {
      "text/plain": [
       "62887                Date and Switch\n",
       "67690                       Blockers\n",
       "46938              Another Gay Movie\n",
       "21993                      Hot Moves\n",
       "63249                Very Good Girls\n",
       "16630    Es war nicht die Nachtigall\n",
       "32869                American Virgin\n",
       "25549                        Rockula\n",
       "17386               Cherry Hill High\n",
       "73450                 The Honor Farm\n",
       "Name: original_title, dtype: object"
      ]
     },
     "execution_count": 26,
     "metadata": {},
     "output_type": "execute_result"
    }
   ],
   "source": [
    "movie_recommend('American Pie').head(10)"
   ]
  },
  {
   "cell_type": "code",
   "execution_count": 27,
   "id": "cd8c7e02",
   "metadata": {},
   "outputs": [
    {
     "data": {
      "text/plain": [
       "64881                          Hell and Back\n",
       "49690                            Deep Winter\n",
       "78636    1 Kezban 1 Mahmut: Adana Yollarinda\n",
       "51533                            Road to Red\n",
       "27131          The Bikini Carwash Company II\n",
       "46994                      Falscher Bekenner\n",
       "68300                            Last Minute\n",
       "31940            The Boy Who Saved Christmas\n",
       "23883                              El heroob\n",
       "4135                              Crossroads\n",
       "Name: original_title, dtype: object"
      ]
     },
     "execution_count": 27,
     "metadata": {},
     "output_type": "execute_result"
    }
   ],
   "source": [
    "movie_recommend('Thelma & Louise').head(10)"
   ]
  },
  {
   "cell_type": "markdown",
   "id": "1eb347db",
   "metadata": {},
   "source": [
    "## Content (film) - Based Recommender"
   ]
  },
  {
   "cell_type": "markdown",
   "id": "d2dc93cc",
   "metadata": {},
   "source": [
    "The recommending system can be finer with the addition of other features to our system like directors, actors, genres,..."
   ]
  },
  {
   "cell_type": "code",
   "execution_count": 121,
   "id": "2a3a4fad",
   "metadata": {},
   "outputs": [
    {
     "data": {
      "text/html": [
       "<div>\n",
       "<style scoped>\n",
       "    .dataframe tbody tr th:only-of-type {\n",
       "        vertical-align: middle;\n",
       "    }\n",
       "\n",
       "    .dataframe tbody tr th {\n",
       "        vertical-align: top;\n",
       "    }\n",
       "\n",
       "    .dataframe thead th {\n",
       "        text-align: right;\n",
       "    }\n",
       "</style>\n",
       "<table border=\"1\" class=\"dataframe\">\n",
       "  <thead>\n",
       "    <tr style=\"text-align: right;\">\n",
       "      <th></th>\n",
       "      <th>imdb_title_id</th>\n",
       "      <th>original_title</th>\n",
       "      <th>year</th>\n",
       "      <th>genre</th>\n",
       "      <th>duration</th>\n",
       "      <th>country</th>\n",
       "      <th>language</th>\n",
       "      <th>director</th>\n",
       "      <th>writer</th>\n",
       "      <th>production_company</th>\n",
       "      <th>actors</th>\n",
       "      <th>description</th>\n",
       "      <th>duration_sets</th>\n",
       "    </tr>\n",
       "  </thead>\n",
       "  <tbody>\n",
       "    <tr>\n",
       "      <th>0</th>\n",
       "      <td>tt0000009</td>\n",
       "      <td>Miss Jerry</td>\n",
       "      <td>1894</td>\n",
       "      <td>Romance</td>\n",
       "      <td>45</td>\n",
       "      <td>USA</td>\n",
       "      <td>0</td>\n",
       "      <td>Alexander Black</td>\n",
       "      <td>Alexander Black</td>\n",
       "      <td>Alexander Black Photoplays</td>\n",
       "      <td>Blanche Bayliss, William Courtenay, Chauncey D...</td>\n",
       "      <td>The adventures of a female reporter in the 1890s.</td>\n",
       "      <td>0 &lt; 1h</td>\n",
       "    </tr>\n",
       "    <tr>\n",
       "      <th>1</th>\n",
       "      <td>tt0000574</td>\n",
       "      <td>The Story of the Kelly Gang</td>\n",
       "      <td>1906</td>\n",
       "      <td>Biography, Crime, Drama</td>\n",
       "      <td>70</td>\n",
       "      <td>Australia</td>\n",
       "      <td>0</td>\n",
       "      <td>Charles Tait</td>\n",
       "      <td>Charles Tait</td>\n",
       "      <td>J. and N. Tait</td>\n",
       "      <td>Elizabeth Tait, John Tait, Norman Campbell, Be...</td>\n",
       "      <td>True story of notorious Australian outlaw Ned ...</td>\n",
       "      <td>1h &lt; 1h30m</td>\n",
       "    </tr>\n",
       "    <tr>\n",
       "      <th>2</th>\n",
       "      <td>tt0001892</td>\n",
       "      <td>Den sorte drøm</td>\n",
       "      <td>1911</td>\n",
       "      <td>Drama</td>\n",
       "      <td>53</td>\n",
       "      <td>Germany, Denmark</td>\n",
       "      <td>0</td>\n",
       "      <td>Urban Gad</td>\n",
       "      <td>Urban Gad, Gebhard Schätzler-Perasini</td>\n",
       "      <td>Fotorama</td>\n",
       "      <td>Asta Nielsen, Valdemar Psilander, Gunnar Helse...</td>\n",
       "      <td>Two men of high rank are both wooing the beaut...</td>\n",
       "      <td>0 &lt; 1h</td>\n",
       "    </tr>\n",
       "    <tr>\n",
       "      <th>3</th>\n",
       "      <td>tt0002101</td>\n",
       "      <td>Cleopatra</td>\n",
       "      <td>1912</td>\n",
       "      <td>Drama, History</td>\n",
       "      <td>100</td>\n",
       "      <td>USA</td>\n",
       "      <td>English</td>\n",
       "      <td>Charles L. Gaskill</td>\n",
       "      <td>Victorien Sardou</td>\n",
       "      <td>Helen Gardner Picture Players</td>\n",
       "      <td>Helen Gardner, Pearl Sindelar, Miss Fielding, ...</td>\n",
       "      <td>The fabled queen of Egypt's affair with Roman ...</td>\n",
       "      <td>1h30m &lt; 2h</td>\n",
       "    </tr>\n",
       "    <tr>\n",
       "      <th>4</th>\n",
       "      <td>tt0002130</td>\n",
       "      <td>L'Inferno</td>\n",
       "      <td>1911</td>\n",
       "      <td>Adventure, Drama, Fantasy</td>\n",
       "      <td>68</td>\n",
       "      <td>Italy</td>\n",
       "      <td>Italian</td>\n",
       "      <td>Francesco Bertolini, Adolfo Padovan</td>\n",
       "      <td>Dante Alighieri</td>\n",
       "      <td>Milano Film</td>\n",
       "      <td>Salvatore Papa, Arturo Pirovano, Giuseppe de L...</td>\n",
       "      <td>Loosely adapted from Dante's Divine Comedy and...</td>\n",
       "      <td>1h &lt; 1h30m</td>\n",
       "    </tr>\n",
       "    <tr>\n",
       "      <th>...</th>\n",
       "      <td>...</td>\n",
       "      <td>...</td>\n",
       "      <td>...</td>\n",
       "      <td>...</td>\n",
       "      <td>...</td>\n",
       "      <td>...</td>\n",
       "      <td>...</td>\n",
       "      <td>...</td>\n",
       "      <td>...</td>\n",
       "      <td>...</td>\n",
       "      <td>...</td>\n",
       "      <td>...</td>\n",
       "      <td>...</td>\n",
       "    </tr>\n",
       "    <tr>\n",
       "      <th>85850</th>\n",
       "      <td>tt9908390</td>\n",
       "      <td>Le lion</td>\n",
       "      <td>2020</td>\n",
       "      <td>Comedy</td>\n",
       "      <td>95</td>\n",
       "      <td>France, Belgium</td>\n",
       "      <td>French</td>\n",
       "      <td>Ludovic Colbeau-Justin</td>\n",
       "      <td>Alexandre Coquelle, Matthieu Le Naour</td>\n",
       "      <td>Monkey Pack Films</td>\n",
       "      <td>Dany Boon, Philippe Katerine, Anne Serra, Samu...</td>\n",
       "      <td>A psychiatric hospital patient pretends to be ...</td>\n",
       "      <td>1h30m &lt; 2h</td>\n",
       "    </tr>\n",
       "    <tr>\n",
       "      <th>85851</th>\n",
       "      <td>tt9911196</td>\n",
       "      <td>De Beentjes van Sint-Hildegard</td>\n",
       "      <td>2020</td>\n",
       "      <td>Comedy, Drama</td>\n",
       "      <td>103</td>\n",
       "      <td>Netherlands</td>\n",
       "      <td>German, Dutch</td>\n",
       "      <td>Johan Nijenhuis</td>\n",
       "      <td>Radek Bajgar, Herman Finkers</td>\n",
       "      <td>Johan Nijenhuis &amp; Co</td>\n",
       "      <td>Herman Finkers, Johanna ter Steege, Leonie ter...</td>\n",
       "      <td>A middle-aged veterinary surgeon believes his ...</td>\n",
       "      <td>1h30m &lt; 2h</td>\n",
       "    </tr>\n",
       "    <tr>\n",
       "      <th>85852</th>\n",
       "      <td>tt9911774</td>\n",
       "      <td>Padmavyuhathile Abhimanyu</td>\n",
       "      <td>2019</td>\n",
       "      <td>Drama</td>\n",
       "      <td>130</td>\n",
       "      <td>India</td>\n",
       "      <td>Malayalam</td>\n",
       "      <td>Vineesh Aaradya</td>\n",
       "      <td>Vineesh Aaradya, Vineesh Aaradya</td>\n",
       "      <td>RMCC Productions</td>\n",
       "      <td>Anoop Chandran, Indrans, Sona Nair, Simon Brit...</td>\n",
       "      <td>0</td>\n",
       "      <td>2h &lt; 2h30m</td>\n",
       "    </tr>\n",
       "    <tr>\n",
       "      <th>85853</th>\n",
       "      <td>tt9914286</td>\n",
       "      <td>Sokagin Çocuklari</td>\n",
       "      <td>2019</td>\n",
       "      <td>Drama, Family</td>\n",
       "      <td>98</td>\n",
       "      <td>Turkey</td>\n",
       "      <td>Turkish</td>\n",
       "      <td>Ahmet Faik Akinci</td>\n",
       "      <td>Ahmet Faik Akinci, Kasim Uçkan</td>\n",
       "      <td>Gizem Ajans</td>\n",
       "      <td>Ahmet Faik Akinci, Belma Mamati, Metin Keçeci,...</td>\n",
       "      <td>0</td>\n",
       "      <td>1h30m &lt; 2h</td>\n",
       "    </tr>\n",
       "    <tr>\n",
       "      <th>85854</th>\n",
       "      <td>tt9914942</td>\n",
       "      <td>La vida sense la Sara Amat</td>\n",
       "      <td>2019</td>\n",
       "      <td>Drama</td>\n",
       "      <td>74</td>\n",
       "      <td>Spain</td>\n",
       "      <td>Catalan</td>\n",
       "      <td>Laura Jou</td>\n",
       "      <td>Coral Cruz, Pep Puig</td>\n",
       "      <td>La Xarxa de Comunicació Local</td>\n",
       "      <td>Maria Morera Colomer, Biel Rossell Pelfort, Is...</td>\n",
       "      <td>Pep, a 13-year-old boy, is in love with a girl...</td>\n",
       "      <td>1h &lt; 1h30m</td>\n",
       "    </tr>\n",
       "  </tbody>\n",
       "</table>\n",
       "<p>85855 rows × 13 columns</p>\n",
       "</div>"
      ],
      "text/plain": [
       "      imdb_title_id                  original_title  year  \\\n",
       "0         tt0000009                      Miss Jerry  1894   \n",
       "1         tt0000574     The Story of the Kelly Gang  1906   \n",
       "2         tt0001892                  Den sorte drøm  1911   \n",
       "3         tt0002101                       Cleopatra  1912   \n",
       "4         tt0002130                       L'Inferno  1911   \n",
       "...             ...                             ...   ...   \n",
       "85850     tt9908390                         Le lion  2020   \n",
       "85851     tt9911196  De Beentjes van Sint-Hildegard  2020   \n",
       "85852     tt9911774       Padmavyuhathile Abhimanyu  2019   \n",
       "85853     tt9914286               Sokagin Çocuklari  2019   \n",
       "85854     tt9914942      La vida sense la Sara Amat  2019   \n",
       "\n",
       "                           genre  duration           country       language  \\\n",
       "0                        Romance        45               USA              0   \n",
       "1        Biography, Crime, Drama        70         Australia              0   \n",
       "2                          Drama        53  Germany, Denmark              0   \n",
       "3                 Drama, History       100               USA        English   \n",
       "4      Adventure, Drama, Fantasy        68             Italy        Italian   \n",
       "...                          ...       ...               ...            ...   \n",
       "85850                     Comedy        95   France, Belgium         French   \n",
       "85851              Comedy, Drama       103       Netherlands  German, Dutch   \n",
       "85852                      Drama       130             India      Malayalam   \n",
       "85853              Drama, Family        98            Turkey        Turkish   \n",
       "85854                      Drama        74             Spain        Catalan   \n",
       "\n",
       "                                  director  \\\n",
       "0                          Alexander Black   \n",
       "1                             Charles Tait   \n",
       "2                                Urban Gad   \n",
       "3                       Charles L. Gaskill   \n",
       "4      Francesco Bertolini, Adolfo Padovan   \n",
       "...                                    ...   \n",
       "85850               Ludovic Colbeau-Justin   \n",
       "85851                      Johan Nijenhuis   \n",
       "85852                      Vineesh Aaradya   \n",
       "85853                    Ahmet Faik Akinci   \n",
       "85854                            Laura Jou   \n",
       "\n",
       "                                      writer             production_company  \\\n",
       "0                            Alexander Black     Alexander Black Photoplays   \n",
       "1                               Charles Tait                 J. and N. Tait   \n",
       "2      Urban Gad, Gebhard Schätzler-Perasini                       Fotorama   \n",
       "3                           Victorien Sardou  Helen Gardner Picture Players   \n",
       "4                            Dante Alighieri                    Milano Film   \n",
       "...                                      ...                            ...   \n",
       "85850  Alexandre Coquelle, Matthieu Le Naour              Monkey Pack Films   \n",
       "85851           Radek Bajgar, Herman Finkers           Johan Nijenhuis & Co   \n",
       "85852       Vineesh Aaradya, Vineesh Aaradya               RMCC Productions   \n",
       "85853         Ahmet Faik Akinci, Kasim Uçkan                    Gizem Ajans   \n",
       "85854                   Coral Cruz, Pep Puig  La Xarxa de Comunicació Local   \n",
       "\n",
       "                                                  actors  \\\n",
       "0      Blanche Bayliss, William Courtenay, Chauncey D...   \n",
       "1      Elizabeth Tait, John Tait, Norman Campbell, Be...   \n",
       "2      Asta Nielsen, Valdemar Psilander, Gunnar Helse...   \n",
       "3      Helen Gardner, Pearl Sindelar, Miss Fielding, ...   \n",
       "4      Salvatore Papa, Arturo Pirovano, Giuseppe de L...   \n",
       "...                                                  ...   \n",
       "85850  Dany Boon, Philippe Katerine, Anne Serra, Samu...   \n",
       "85851  Herman Finkers, Johanna ter Steege, Leonie ter...   \n",
       "85852  Anoop Chandran, Indrans, Sona Nair, Simon Brit...   \n",
       "85853  Ahmet Faik Akinci, Belma Mamati, Metin Keçeci,...   \n",
       "85854  Maria Morera Colomer, Biel Rossell Pelfort, Is...   \n",
       "\n",
       "                                             description duration_sets  \n",
       "0      The adventures of a female reporter in the 1890s.        0 < 1h  \n",
       "1      True story of notorious Australian outlaw Ned ...    1h < 1h30m  \n",
       "2      Two men of high rank are both wooing the beaut...        0 < 1h  \n",
       "3      The fabled queen of Egypt's affair with Roman ...    1h30m < 2h  \n",
       "4      Loosely adapted from Dante's Divine Comedy and...    1h < 1h30m  \n",
       "...                                                  ...           ...  \n",
       "85850  A psychiatric hospital patient pretends to be ...    1h30m < 2h  \n",
       "85851  A middle-aged veterinary surgeon believes his ...    1h30m < 2h  \n",
       "85852                                                  0    2h < 2h30m  \n",
       "85853                                                  0    1h30m < 2h  \n",
       "85854  Pep, a 13-year-old boy, is in love with a girl...    1h < 1h30m  \n",
       "\n",
       "[85855 rows x 13 columns]"
      ]
     },
     "execution_count": 121,
     "metadata": {},
     "output_type": "execute_result"
    }
   ],
   "source": [
    "dfmov.drop('Unnamed: 0', axis=1)"
   ]
  },
  {
   "cell_type": "code",
   "execution_count": 122,
   "id": "cb53c0f1",
   "metadata": {},
   "outputs": [],
   "source": [
    "rec_film = dfmov[['actors', 'director', 'writer', 'genre']]\n",
    "# The dataframe used for this recommender system"
   ]
  },
  {
   "cell_type": "code",
   "execution_count": 123,
   "id": "2ccfb3d2",
   "metadata": {},
   "outputs": [
    {
     "data": {
      "text/plain": [
       "pandas.core.frame.DataFrame"
      ]
     },
     "execution_count": 123,
     "metadata": {},
     "output_type": "execute_result"
    }
   ],
   "source": [
    "type(rec_film)"
   ]
  },
  {
   "cell_type": "code",
   "execution_count": 81,
   "id": "8e7d4259",
   "metadata": {},
   "outputs": [
    {
     "name": "stdout",
     "output_type": "stream",
     "text": [
      "                                                  actors  \\\n",
      "0      \"Blanche Bayliss, William Courtenay, Chauncey ...   \n",
      "1      \"Elizabeth Tait, John Tait, Norman Campbell, B...   \n",
      "2      \"Asta Nielsen, Valdemar Psilander, Gunnar Hels...   \n",
      "3      \"Helen Gardner, Pearl Sindelar, Miss Fielding,...   \n",
      "4      \"Salvatore Papa, Arturo Pirovano, Giuseppe de ...   \n",
      "...                                                  ...   \n",
      "85850  \"Dany Boon, Philippe Katerine, Anne Serra, Sam...   \n",
      "85851  \"Herman Finkers, Johanna ter Steege, Leonie te...   \n",
      "85852  \"Anoop Chandran, Indrans, Sona Nair, Simon Bri...   \n",
      "85853  \"Ahmet Faik Akinci, Belma Mamati, Metin Keçeci...   \n",
      "85854  \"Maria Morera Colomer, Biel Rossell Pelfort, I...   \n",
      "\n",
      "                                    director  \\\n",
      "0                          \"Alexander Black\"   \n",
      "1                             \"Charles Tait\"   \n",
      "2                                \"Urban Gad\"   \n",
      "3                       \"Charles L. Gaskill\"   \n",
      "4      \"Francesco Bertolini, Adolfo Padovan\"   \n",
      "...                                      ...   \n",
      "85850               \"Ludovic Colbeau-Justin\"   \n",
      "85851                      \"Johan Nijenhuis\"   \n",
      "85852                      \"Vineesh Aaradya\"   \n",
      "85853                    \"Ahmet Faik Akinci\"   \n",
      "85854                            \"Laura Jou\"   \n",
      "\n",
      "                                        writer                        genre  \n",
      "0                            \"Alexander Black\"                    \"Romance\"  \n",
      "1                               \"Charles Tait\"    \"Biography, Crime, Drama\"  \n",
      "2      \"Urban Gad, Gebhard Schätzler-Perasini\"                      \"Drama\"  \n",
      "3                           \"Victorien Sardou\"             \"Drama, History\"  \n",
      "4                            \"Dante Alighieri\"  \"Adventure, Drama, Fantasy\"  \n",
      "...                                        ...                          ...  \n",
      "85850  \"Alexandre Coquelle, Matthieu Le Naour\"                     \"Comedy\"  \n",
      "85851           \"Radek Bajgar, Herman Finkers\"              \"Comedy, Drama\"  \n",
      "85852       \"Vineesh Aaradya, Vineesh Aaradya\"                      \"Drama\"  \n",
      "85853         \"Ahmet Faik Akinci, Kasim Uçkan\"              \"Drama, Family\"  \n",
      "85854                   \"Coral Cruz, Pep Puig\"                      \"Drama\"  \n",
      "\n",
      "[85855 rows x 4 columns]\n"
     ]
    },
    {
     "name": "stderr",
     "output_type": "stream",
     "text": [
      "/home/guillermo/.local/lib/python3.8/site-packages/pandas/core/frame.py:7511: SettingWithCopyWarning: \n",
      "A value is trying to be set on a copy of a slice from a DataFrame.\n",
      "Try using .loc[row_indexer,col_indexer] = value instead\n",
      "\n",
      "See the caveats in the documentation: https://pandas.pydata.org/pandas-docs/stable/user_guide/indexing.html#returning-a-view-versus-a-copy\n",
      "  self[col] = expressions.where(mask, this, that)\n"
     ]
    }
   ],
   "source": [
    "#rec_film.update('\"' + rec_film[['actors', 'director', 'writer', 'genre']].astype(str) + '\"')\n",
    "#print(rec_film)"
   ]
  },
  {
   "cell_type": "code",
   "execution_count": 124,
   "id": "83ef06a9",
   "metadata": {},
   "outputs": [],
   "source": [
    "import re\n",
    "import nltk"
   ]
  },
  {
   "cell_type": "code",
   "execution_count": 126,
   "id": "fe42c0a7",
   "metadata": {},
   "outputs": [
    {
     "name": "stderr",
     "output_type": "stream",
     "text": [
      "<ipython-input-126-443a6f5b953a>:1: SettingWithCopyWarning: \n",
      "A value is trying to be set on a copy of a slice from a DataFrame.\n",
      "Try using .loc[row_indexer,col_indexer] = value instead\n",
      "\n",
      "See the caveats in the documentation: https://pandas.pydata.org/pandas-docs/stable/user_guide/indexing.html#returning-a-view-versus-a-copy\n",
      "  rec_film['writers'] = rec_film['writer'].str.lower()\n",
      "<ipython-input-126-443a6f5b953a>:2: SettingWithCopyWarning: \n",
      "A value is trying to be set on a copy of a slice from a DataFrame.\n",
      "Try using .loc[row_indexer,col_indexer] = value instead\n",
      "\n",
      "See the caveats in the documentation: https://pandas.pydata.org/pandas-docs/stable/user_guide/indexing.html#returning-a-view-versus-a-copy\n",
      "  rec_film['writers'] = rec_film['writers'].apply(lambda x: re.sub('[^a-zA-Z]', ' ', x))\n",
      "<ipython-input-126-443a6f5b953a>:3: SettingWithCopyWarning: \n",
      "A value is trying to be set on a copy of a slice from a DataFrame.\n",
      "Try using .loc[row_indexer,col_indexer] = value instead\n",
      "\n",
      "See the caveats in the documentation: https://pandas.pydata.org/pandas-docs/stable/user_guide/indexing.html#returning-a-view-versus-a-copy\n",
      "  rec_film['writers'] = rec_film['writers'].apply(lambda x: re.sub('\\s+', ' ', x))\n"
     ]
    }
   ],
   "source": [
    "rec_film['writers'] = rec_film['writer'].str.lower()\n",
    "rec_film['writers'] = rec_film['writers'].apply(lambda x: re.sub('[^a-zA-Z]', ' ', x))\n",
    "rec_film['writers'] = rec_film['writers'].apply(lambda x: re.sub('\\s+', ' ', x))"
   ]
  },
  {
   "cell_type": "code",
   "execution_count": 82,
   "id": "406b5d77",
   "metadata": {},
   "outputs": [],
   "source": [
    "#rec_film = rec_film.update(rec_film[['actors', 'director', 'writer', 'genre']].applymap('\"{}\"'.format))"
   ]
  },
  {
   "cell_type": "code",
   "execution_count": 83,
   "id": "4fa38357",
   "metadata": {},
   "outputs": [
    {
     "data": {
      "text/plain": [
       "str"
      ]
     },
     "execution_count": 83,
     "metadata": {},
     "output_type": "execute_result"
    }
   ],
   "source": [
    "type(rec_film['writer'][0])"
   ]
  },
  {
   "cell_type": "code",
   "execution_count": 84,
   "id": "5eba6245",
   "metadata": {},
   "outputs": [],
   "source": [
    "features = ['actors', 'director', 'writer', 'genre']"
   ]
  },
  {
   "cell_type": "code",
   "execution_count": 85,
   "id": "0bd9144d",
   "metadata": {},
   "outputs": [],
   "source": [
    "from ast import literal_eval\n",
    "# I have a list of strings and I have to tranform them into usable data for the system"
   ]
  },
  {
   "cell_type": "code",
   "execution_count": 86,
   "id": "94dbfb10",
   "metadata": {},
   "outputs": [
    {
     "name": "stdout",
     "output_type": "stream",
     "text": [
      "EOL while scanning string literal (<unknown>, line 1)\n",
      "invalid syntax (<unknown>, line 1)\n",
      "invalid syntax (<unknown>, line 1)\n",
      "invalid syntax (<unknown>, line 1)\n"
     ]
    },
    {
     "name": "stderr",
     "output_type": "stream",
     "text": [
      "/home/guillermo/.local/lib/python3.8/site-packages/pandas/core/frame.py:3641: SettingWithCopyWarning: \n",
      "A value is trying to be set on a copy of a slice from a DataFrame.\n",
      "Try using .loc[row_indexer,col_indexer] = value instead\n",
      "\n",
      "See the caveats in the documentation: https://pandas.pydata.org/pandas-docs/stable/user_guide/indexing.html#returning-a-view-versus-a-copy\n",
      "  self[k1] = value[k2]\n"
     ]
    }
   ],
   "source": [
    "def f(x):\n",
    "    try:\n",
    "        return literal_eval(str(x))   \n",
    "    except Exception as e:\n",
    "        print(e)\n",
    "        return []\n",
    "\n",
    "rec_film[['actors', 'director', 'writer', 'genre']] = rec_film[['actors', 'director', 'writer', 'genre']].apply(lambda x: f(x))"
   ]
  },
  {
   "cell_type": "code",
   "execution_count": null,
   "id": "4dd56df1",
   "metadata": {},
   "outputs": [],
   "source": [
    "#def literal_return(val):\n",
    " #   try:\n",
    "  #      return ast.literal_eval(val)\n",
    "   # except (ValueError, SyntaxError) as e:\n",
    "    #    return val"
   ]
  },
  {
   "cell_type": "code",
   "execution_count": 78,
   "id": "57cf2a2e",
   "metadata": {},
   "outputs": [],
   "source": [
    "# Converting the data to be usable in the model\n",
    "\n",
    "#for feature in features:\n",
    "\n",
    " #   rec_film[feature] = rec_film[feature].apply(literal_eval)"
   ]
  },
  {
   "cell_type": "code",
   "execution_count": 109,
   "id": "34d6e63b",
   "metadata": {},
   "outputs": [],
   "source": [
    "# Tu lo tienes dividido ya\n",
    "def get_director(x):\n",
    "    for i in x:\n",
    "        if i['job'] == 'Director':\n",
    "            return i['name']\n",
    "    return np.nan"
   ]
  },
  {
   "cell_type": "code",
   "execution_count": 110,
   "id": "260bfee8",
   "metadata": {},
   "outputs": [],
   "source": [
    "def get_list(x):\n",
    "    '''\n",
    "    Function returns top 3 elements or entire list, whichever more.\n",
    "    The lists of actors, directors, writers or genres\n",
    "    It will return empty list in case of missing or malformed data\n",
    "    '''\n",
    "    if isinstance(x, list):\n",
    "        names = [i['name'] for i in x]\n",
    "        # Check to see if there are 3 elements and stop there\n",
    "        if len(names)>3:\n",
    "            names = names[:3]\n",
    "        \n",
    "        return names\n",
    "    \n",
    "    # Return empty list in case of bad data\n",
    "    return []"
   ]
  },
  {
   "cell_type": "code",
   "execution_count": 111,
   "id": "11929db1",
   "metadata": {},
   "outputs": [
    {
     "name": "stderr",
     "output_type": "stream",
     "text": [
      "<ipython-input-111-4509a2b00044>:2: SettingWithCopyWarning: \n",
      "A value is trying to be set on a copy of a slice from a DataFrame.\n",
      "Try using .loc[row_indexer,col_indexer] = value instead\n",
      "\n",
      "See the caveats in the documentation: https://pandas.pydata.org/pandas-docs/stable/user_guide/indexing.html#returning-a-view-versus-a-copy\n",
      "  rec_film['director'] = rec_film['actors'].apply(get_director)\n",
      "<ipython-input-111-4509a2b00044>:6: SettingWithCopyWarning: \n",
      "A value is trying to be set on a copy of a slice from a DataFrame.\n",
      "Try using .loc[row_indexer,col_indexer] = value instead\n",
      "\n",
      "See the caveats in the documentation: https://pandas.pydata.org/pandas-docs/stable/user_guide/indexing.html#returning-a-view-versus-a-copy\n",
      "  rec_film[feature] = rec_film[feature].apply(get_list)\n"
     ]
    }
   ],
   "source": [
    "# Define new director, cast, genres and keywords features that are in a suitable form.\n",
    "rec_film['director'] = rec_film['actors'].apply(get_director)\n",
    "\n",
    "features = ['actors', 'director', 'writer', 'genre']\n",
    "for feature in features:\n",
    "    rec_film[feature] = rec_film[feature].apply(get_list)"
   ]
  },
  {
   "cell_type": "code",
   "execution_count": 112,
   "id": "b5eef876",
   "metadata": {},
   "outputs": [],
   "source": [
    "# Function to convert all strings to lower case and strip names of spaces\n",
    "def clean_data(x):\n",
    "    if isinstance(x, list):\n",
    "        return [str.lower(i.replace(\" \", \"\")) for i in x]\n",
    "    else:\n",
    "        #Check if director exists. If not, return empty string\n",
    "        if isinstance(x, str):\n",
    "            return str.lower(x.replace(\" \", \"\"))\n",
    "        else:\n",
    "            return ''"
   ]
  },
  {
   "cell_type": "code",
   "execution_count": 113,
   "id": "115c1cb6",
   "metadata": {},
   "outputs": [
    {
     "name": "stderr",
     "output_type": "stream",
     "text": [
      "<ipython-input-113-89cba1130b16>:5: SettingWithCopyWarning: \n",
      "A value is trying to be set on a copy of a slice from a DataFrame.\n",
      "Try using .loc[row_indexer,col_indexer] = value instead\n",
      "\n",
      "See the caveats in the documentation: https://pandas.pydata.org/pandas-docs/stable/user_guide/indexing.html#returning-a-view-versus-a-copy\n",
      "  rec_film[feature] = rec_film[feature].apply(clean_data)\n"
     ]
    }
   ],
   "source": [
    "# Apply clean_data function to your features.\n",
    "features = ['actors', 'director', 'writer', 'genre']\n",
    "\n",
    "for feature in features:\n",
    "    rec_film[feature] = rec_film[feature].apply(clean_data)"
   ]
  },
  {
   "cell_type": "code",
   "execution_count": 114,
   "id": "d0e7fba2",
   "metadata": {},
   "outputs": [],
   "source": [
    "def create_soup(x):\n",
    "    return ' '.join(x['actors']) + ' ' + ' '.join(x['director']) + ' ' + ' ' .join(x['writer']) + ' ' + ' '.join(x['genre'])"
   ]
  },
  {
   "cell_type": "code",
   "execution_count": 115,
   "id": "c7847ec6",
   "metadata": {},
   "outputs": [
    {
     "name": "stderr",
     "output_type": "stream",
     "text": [
      "<ipython-input-115-1d28a94027f6>:2: SettingWithCopyWarning: \n",
      "A value is trying to be set on a copy of a slice from a DataFrame.\n",
      "Try using .loc[row_indexer,col_indexer] = value instead\n",
      "\n",
      "See the caveats in the documentation: https://pandas.pydata.org/pandas-docs/stable/user_guide/indexing.html#returning-a-view-versus-a-copy\n",
      "  rec_film['soup'] = rec_film.apply(create_soup, axis=1)\n"
     ]
    }
   ],
   "source": [
    "# Create a new soup feature\n",
    "rec_film['soup'] = rec_film.apply(create_soup, axis=1)"
   ]
  },
  {
   "cell_type": "code",
   "execution_count": 116,
   "id": "aa5e9289",
   "metadata": {},
   "outputs": [
    {
     "data": {
      "text/html": [
       "<div>\n",
       "<style scoped>\n",
       "    .dataframe tbody tr th:only-of-type {\n",
       "        vertical-align: middle;\n",
       "    }\n",
       "\n",
       "    .dataframe tbody tr th {\n",
       "        vertical-align: top;\n",
       "    }\n",
       "\n",
       "    .dataframe thead th {\n",
       "        text-align: right;\n",
       "    }\n",
       "</style>\n",
       "<table border=\"1\" class=\"dataframe\">\n",
       "  <thead>\n",
       "    <tr style=\"text-align: right;\">\n",
       "      <th></th>\n",
       "      <th>actors</th>\n",
       "      <th>director</th>\n",
       "      <th>writer</th>\n",
       "      <th>genre</th>\n",
       "      <th>soup</th>\n",
       "    </tr>\n",
       "  </thead>\n",
       "  <tbody>\n",
       "    <tr>\n",
       "      <th>0</th>\n",
       "      <td>[]</td>\n",
       "      <td>[]</td>\n",
       "      <td>[]</td>\n",
       "      <td>[]</td>\n",
       "      <td></td>\n",
       "    </tr>\n",
       "    <tr>\n",
       "      <th>1</th>\n",
       "      <td>[]</td>\n",
       "      <td>[]</td>\n",
       "      <td>[]</td>\n",
       "      <td>[]</td>\n",
       "      <td></td>\n",
       "    </tr>\n",
       "    <tr>\n",
       "      <th>2</th>\n",
       "      <td>[]</td>\n",
       "      <td>[]</td>\n",
       "      <td>[]</td>\n",
       "      <td>[]</td>\n",
       "      <td></td>\n",
       "    </tr>\n",
       "    <tr>\n",
       "      <th>3</th>\n",
       "      <td>[]</td>\n",
       "      <td>[]</td>\n",
       "      <td>[]</td>\n",
       "      <td>[]</td>\n",
       "      <td></td>\n",
       "    </tr>\n",
       "    <tr>\n",
       "      <th>4</th>\n",
       "      <td>[]</td>\n",
       "      <td>[]</td>\n",
       "      <td>[]</td>\n",
       "      <td>[]</td>\n",
       "      <td></td>\n",
       "    </tr>\n",
       "    <tr>\n",
       "      <th>...</th>\n",
       "      <td>...</td>\n",
       "      <td>...</td>\n",
       "      <td>...</td>\n",
       "      <td>...</td>\n",
       "      <td>...</td>\n",
       "    </tr>\n",
       "    <tr>\n",
       "      <th>85850</th>\n",
       "      <td>[]</td>\n",
       "      <td>[]</td>\n",
       "      <td>[]</td>\n",
       "      <td>[]</td>\n",
       "      <td></td>\n",
       "    </tr>\n",
       "    <tr>\n",
       "      <th>85851</th>\n",
       "      <td>[]</td>\n",
       "      <td>[]</td>\n",
       "      <td>[]</td>\n",
       "      <td>[]</td>\n",
       "      <td></td>\n",
       "    </tr>\n",
       "    <tr>\n",
       "      <th>85852</th>\n",
       "      <td>[]</td>\n",
       "      <td>[]</td>\n",
       "      <td>[]</td>\n",
       "      <td>[]</td>\n",
       "      <td></td>\n",
       "    </tr>\n",
       "    <tr>\n",
       "      <th>85853</th>\n",
       "      <td>[]</td>\n",
       "      <td>[]</td>\n",
       "      <td>[]</td>\n",
       "      <td>[]</td>\n",
       "      <td></td>\n",
       "    </tr>\n",
       "    <tr>\n",
       "      <th>85854</th>\n",
       "      <td>[]</td>\n",
       "      <td>[]</td>\n",
       "      <td>[]</td>\n",
       "      <td>[]</td>\n",
       "      <td></td>\n",
       "    </tr>\n",
       "  </tbody>\n",
       "</table>\n",
       "<p>85855 rows × 5 columns</p>\n",
       "</div>"
      ],
      "text/plain": [
       "      actors director writer genre soup\n",
       "0         []       []     []    []     \n",
       "1         []       []     []    []     \n",
       "2         []       []     []    []     \n",
       "3         []       []     []    []     \n",
       "4         []       []     []    []     \n",
       "...      ...      ...    ...   ...  ...\n",
       "85850     []       []     []    []     \n",
       "85851     []       []     []    []     \n",
       "85852     []       []     []    []     \n",
       "85853     []       []     []    []     \n",
       "85854     []       []     []    []     \n",
       "\n",
       "[85855 rows x 5 columns]"
      ]
     },
     "execution_count": 116,
     "metadata": {},
     "output_type": "execute_result"
    }
   ],
   "source": [
    "rec_film"
   ]
  },
  {
   "cell_type": "code",
   "execution_count": 59,
   "id": "8cc169ef",
   "metadata": {},
   "outputs": [
    {
     "ename": "KeyError",
     "evalue": "'soup'",
     "output_type": "error",
     "traceback": [
      "\u001b[0;31m---------------------------------------------------------------------------\u001b[0m",
      "\u001b[0;31mKeyError\u001b[0m                                  Traceback (most recent call last)",
      "\u001b[0;32m~/.local/lib/python3.8/site-packages/pandas/core/indexes/base.py\u001b[0m in \u001b[0;36mget_loc\u001b[0;34m(self, key, method, tolerance)\u001b[0m\n\u001b[1;32m   3360\u001b[0m             \u001b[0;32mtry\u001b[0m\u001b[0;34m:\u001b[0m\u001b[0;34m\u001b[0m\u001b[0;34m\u001b[0m\u001b[0m\n\u001b[0;32m-> 3361\u001b[0;31m                 \u001b[0;32mreturn\u001b[0m \u001b[0mself\u001b[0m\u001b[0;34m.\u001b[0m\u001b[0m_engine\u001b[0m\u001b[0;34m.\u001b[0m\u001b[0mget_loc\u001b[0m\u001b[0;34m(\u001b[0m\u001b[0mcasted_key\u001b[0m\u001b[0;34m)\u001b[0m\u001b[0;34m\u001b[0m\u001b[0;34m\u001b[0m\u001b[0m\n\u001b[0m\u001b[1;32m   3362\u001b[0m             \u001b[0;32mexcept\u001b[0m \u001b[0mKeyError\u001b[0m \u001b[0;32mas\u001b[0m \u001b[0merr\u001b[0m\u001b[0;34m:\u001b[0m\u001b[0;34m\u001b[0m\u001b[0;34m\u001b[0m\u001b[0m\n",
      "\u001b[0;32m~/.local/lib/python3.8/site-packages/pandas/_libs/index.pyx\u001b[0m in \u001b[0;36mpandas._libs.index.IndexEngine.get_loc\u001b[0;34m()\u001b[0m\n",
      "\u001b[0;32m~/.local/lib/python3.8/site-packages/pandas/_libs/index.pyx\u001b[0m in \u001b[0;36mpandas._libs.index.IndexEngine.get_loc\u001b[0;34m()\u001b[0m\n",
      "\u001b[0;32mpandas/_libs/hashtable_class_helper.pxi\u001b[0m in \u001b[0;36mpandas._libs.hashtable.PyObjectHashTable.get_item\u001b[0;34m()\u001b[0m\n",
      "\u001b[0;32mpandas/_libs/hashtable_class_helper.pxi\u001b[0m in \u001b[0;36mpandas._libs.hashtable.PyObjectHashTable.get_item\u001b[0;34m()\u001b[0m\n",
      "\u001b[0;31mKeyError\u001b[0m: 'soup'",
      "\nThe above exception was the direct cause of the following exception:\n",
      "\u001b[0;31mKeyError\u001b[0m                                  Traceback (most recent call last)",
      "\u001b[0;32m<ipython-input-59-057117272a66>\u001b[0m in \u001b[0;36m<module>\u001b[0;34m\u001b[0m\n\u001b[1;32m      3\u001b[0m \u001b[0;34m\u001b[0m\u001b[0m\n\u001b[1;32m      4\u001b[0m \u001b[0mcount\u001b[0m \u001b[0;34m=\u001b[0m \u001b[0mCountVectorizer\u001b[0m\u001b[0;34m(\u001b[0m\u001b[0mstop_words\u001b[0m\u001b[0;34m=\u001b[0m\u001b[0;34m'english'\u001b[0m\u001b[0;34m)\u001b[0m\u001b[0;34m\u001b[0m\u001b[0;34m\u001b[0m\u001b[0m\n\u001b[0;32m----> 5\u001b[0;31m \u001b[0mcount_matrix\u001b[0m \u001b[0;34m=\u001b[0m \u001b[0mcount\u001b[0m\u001b[0;34m.\u001b[0m\u001b[0mfit_transform\u001b[0m\u001b[0;34m(\u001b[0m\u001b[0mrec_film\u001b[0m\u001b[0;34m[\u001b[0m\u001b[0;34m'soup'\u001b[0m\u001b[0;34m]\u001b[0m\u001b[0;34m)\u001b[0m\u001b[0;34m\u001b[0m\u001b[0;34m\u001b[0m\u001b[0m\n\u001b[0m",
      "\u001b[0;32m~/.local/lib/python3.8/site-packages/pandas/core/frame.py\u001b[0m in \u001b[0;36m__getitem__\u001b[0;34m(self, key)\u001b[0m\n\u001b[1;32m   3456\u001b[0m             \u001b[0;32mif\u001b[0m \u001b[0mself\u001b[0m\u001b[0;34m.\u001b[0m\u001b[0mcolumns\u001b[0m\u001b[0;34m.\u001b[0m\u001b[0mnlevels\u001b[0m \u001b[0;34m>\u001b[0m \u001b[0;36m1\u001b[0m\u001b[0;34m:\u001b[0m\u001b[0;34m\u001b[0m\u001b[0;34m\u001b[0m\u001b[0m\n\u001b[1;32m   3457\u001b[0m                 \u001b[0;32mreturn\u001b[0m \u001b[0mself\u001b[0m\u001b[0;34m.\u001b[0m\u001b[0m_getitem_multilevel\u001b[0m\u001b[0;34m(\u001b[0m\u001b[0mkey\u001b[0m\u001b[0;34m)\u001b[0m\u001b[0;34m\u001b[0m\u001b[0;34m\u001b[0m\u001b[0m\n\u001b[0;32m-> 3458\u001b[0;31m             \u001b[0mindexer\u001b[0m \u001b[0;34m=\u001b[0m \u001b[0mself\u001b[0m\u001b[0;34m.\u001b[0m\u001b[0mcolumns\u001b[0m\u001b[0;34m.\u001b[0m\u001b[0mget_loc\u001b[0m\u001b[0;34m(\u001b[0m\u001b[0mkey\u001b[0m\u001b[0;34m)\u001b[0m\u001b[0;34m\u001b[0m\u001b[0;34m\u001b[0m\u001b[0m\n\u001b[0m\u001b[1;32m   3459\u001b[0m             \u001b[0;32mif\u001b[0m \u001b[0mis_integer\u001b[0m\u001b[0;34m(\u001b[0m\u001b[0mindexer\u001b[0m\u001b[0;34m)\u001b[0m\u001b[0;34m:\u001b[0m\u001b[0;34m\u001b[0m\u001b[0;34m\u001b[0m\u001b[0m\n\u001b[1;32m   3460\u001b[0m                 \u001b[0mindexer\u001b[0m \u001b[0;34m=\u001b[0m \u001b[0;34m[\u001b[0m\u001b[0mindexer\u001b[0m\u001b[0;34m]\u001b[0m\u001b[0;34m\u001b[0m\u001b[0;34m\u001b[0m\u001b[0m\n",
      "\u001b[0;32m~/.local/lib/python3.8/site-packages/pandas/core/indexes/base.py\u001b[0m in \u001b[0;36mget_loc\u001b[0;34m(self, key, method, tolerance)\u001b[0m\n\u001b[1;32m   3361\u001b[0m                 \u001b[0;32mreturn\u001b[0m \u001b[0mself\u001b[0m\u001b[0;34m.\u001b[0m\u001b[0m_engine\u001b[0m\u001b[0;34m.\u001b[0m\u001b[0mget_loc\u001b[0m\u001b[0;34m(\u001b[0m\u001b[0mcasted_key\u001b[0m\u001b[0;34m)\u001b[0m\u001b[0;34m\u001b[0m\u001b[0;34m\u001b[0m\u001b[0m\n\u001b[1;32m   3362\u001b[0m             \u001b[0;32mexcept\u001b[0m \u001b[0mKeyError\u001b[0m \u001b[0;32mas\u001b[0m \u001b[0merr\u001b[0m\u001b[0;34m:\u001b[0m\u001b[0;34m\u001b[0m\u001b[0;34m\u001b[0m\u001b[0m\n\u001b[0;32m-> 3363\u001b[0;31m                 \u001b[0;32mraise\u001b[0m \u001b[0mKeyError\u001b[0m\u001b[0;34m(\u001b[0m\u001b[0mkey\u001b[0m\u001b[0;34m)\u001b[0m \u001b[0;32mfrom\u001b[0m \u001b[0merr\u001b[0m\u001b[0;34m\u001b[0m\u001b[0;34m\u001b[0m\u001b[0m\n\u001b[0m\u001b[1;32m   3364\u001b[0m \u001b[0;34m\u001b[0m\u001b[0m\n\u001b[1;32m   3365\u001b[0m         \u001b[0;32mif\u001b[0m \u001b[0mis_scalar\u001b[0m\u001b[0;34m(\u001b[0m\u001b[0mkey\u001b[0m\u001b[0;34m)\u001b[0m \u001b[0;32mand\u001b[0m \u001b[0misna\u001b[0m\u001b[0;34m(\u001b[0m\u001b[0mkey\u001b[0m\u001b[0;34m)\u001b[0m \u001b[0;32mand\u001b[0m \u001b[0;32mnot\u001b[0m \u001b[0mself\u001b[0m\u001b[0;34m.\u001b[0m\u001b[0mhasnans\u001b[0m\u001b[0;34m:\u001b[0m\u001b[0;34m\u001b[0m\u001b[0;34m\u001b[0m\u001b[0m\n",
      "\u001b[0;31mKeyError\u001b[0m: 'soup'"
     ]
    }
   ],
   "source": [
    "# Import CountVectorizer and create the count matrix\n",
    "from sklearn.feature_extraction.text import CountVectorizer\n",
    "\n",
    "count = CountVectorizer(stop_words='english')\n",
    "count_matrix = count.fit_transform(rec_film['soup'])"
   ]
  },
  {
   "cell_type": "code",
   "execution_count": null,
   "id": "5de767c6",
   "metadata": {},
   "outputs": [],
   "source": [
    "count_matrix.shape\n"
   ]
  },
  {
   "cell_type": "code",
   "execution_count": null,
   "id": "acb32c9d",
   "metadata": {},
   "outputs": [],
   "source": [
    "from sklearn.metrics.pairwise import cosine_similarity\n",
    "\n",
    "cosine_sim2 = cosine_similarity(count_matrix, count_matrix)"
   ]
  },
  {
   "cell_type": "code",
   "execution_count": null,
   "id": "b8174e7d",
   "metadata": {},
   "outputs": [],
   "source": [
    "# Reset index of your main DataFrame and construct reverse mapping as before\n",
    "metadata = metadata.reset_index()\n",
    "indices = pd.Series(metadata.index, index=metadata['title'])"
   ]
  },
  {
   "cell_type": "code",
   "execution_count": null,
   "id": "75378fa2",
   "metadata": {},
   "outputs": [],
   "source": [
    "get_recommendations('The Dark Knight Rises', cosine_sim2)\n"
   ]
  },
  {
   "cell_type": "code",
   "execution_count": null,
   "id": "b06e8763",
   "metadata": {},
   "outputs": [],
   "source": [
    "get_recommendations('The Godfather', cosine_sim2)\n"
   ]
  }
 ],
 "metadata": {
  "kernelspec": {
   "display_name": "ironhack",
   "language": "python",
   "name": "ironhack"
  },
  "language_info": {
   "codemirror_mode": {
    "name": "ipython",
    "version": 3
   },
   "file_extension": ".py",
   "mimetype": "text/x-python",
   "name": "python",
   "nbconvert_exporter": "python",
   "pygments_lexer": "ipython3",
   "version": "3.8.8"
  }
 },
 "nbformat": 4,
 "nbformat_minor": 5
}
