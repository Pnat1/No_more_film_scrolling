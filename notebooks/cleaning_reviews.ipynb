{
 "cells": [
  {
   "cell_type": "code",
   "execution_count": null,
   "id": "c20eb3b8",
   "metadata": {},
   "outputs": [],
   "source": [
    "# Manage the NaNs with the mean of each column\n",
    "df_mov = df_mov.fillna(value=df_mov[\"reviews_from_users\"].mean())\n",
    "df_mov = df_mov.fillna(value=df_mov[\"reviews_from_critics\"].mean())"
   ]
  },
  {
   "cell_type": "code",
   "execution_count": null,
   "id": "5af3c888",
   "metadata": {},
   "outputs": [],
   "source": [
    "lista = []\n",
    "for i in df_mov_nam.worlwide_gross_income:\n",
    "    if i == 'nan':\n",
    "        lista.append(np.nan)\n",
    "    else:\n",
    "        lista.append(i)"
   ]
  },
  {
   "cell_type": "code",
   "execution_count": null,
   "id": "35f22649",
   "metadata": {},
   "outputs": [],
   "source": [
    "df_mov_nam.corr().style.background_gradient(cmap='coolwarm')\n",
    "# Income/Currency columns are in string format\n",
    "# As planned we do have mildly strong correlations among reviews and votes"
   ]
  },
  {
   "cell_type": "code",
   "execution_count": null,
   "id": "ca8ae187",
   "metadata": {},
   "outputs": [],
   "source": [
    "# Professional Critic vote\n",
    "df_mov_nam.metascore.max()"
   ]
  },
  {
   "cell_type": "code",
   "execution_count": null,
   "id": "d32cd5c3",
   "metadata": {},
   "outputs": [],
   "source": [
    "df_mov_nam.metascore.min()"
   ]
  },
  {
   "cell_type": "code",
   "execution_count": null,
   "id": "2b8c8c67",
   "metadata": {},
   "outputs": [],
   "source": [
    "# Amount of reviews from users\n",
    "df_mov_nam.reviews_from_users.max()"
   ]
  },
  {
   "cell_type": "code",
   "execution_count": null,
   "id": "deaf82b0",
   "metadata": {},
   "outputs": [],
   "source": [
    "df_mov_nam.reviews_from_users.min()"
   ]
  },
  {
   "cell_type": "code",
   "execution_count": null,
   "id": "500aad7b",
   "metadata": {},
   "outputs": [],
   "source": [
    "# Amount of reviews from critics\n",
    "df_mov_nam.reviews_from_critics.max()"
   ]
  },
  {
   "cell_type": "code",
   "execution_count": null,
   "id": "5d1363bc",
   "metadata": {},
   "outputs": [],
   "source": [
    "df_mov_nam.reviews_from_critics.min()"
   ]
  },
  {
   "cell_type": "code",
   "execution_count": null,
   "id": "1a49614d",
   "metadata": {},
   "outputs": [],
   "source": []
  }
 ],
 "metadata": {
  "kernelspec": {
   "display_name": "ironhack",
   "language": "python",
   "name": "ironhack"
  },
  "language_info": {
   "codemirror_mode": {
    "name": "ipython",
    "version": 3
   },
   "file_extension": ".py",
   "mimetype": "text/x-python",
   "name": "python",
   "nbconvert_exporter": "python",
   "pygments_lexer": "ipython3",
   "version": "3.8.8"
  }
 },
 "nbformat": 4,
 "nbformat_minor": 5
}
